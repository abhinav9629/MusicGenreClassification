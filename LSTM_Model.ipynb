{
  "nbformat": 4,
  "nbformat_minor": 0,
  "metadata": {
    "colab": {
      "name": "LSTM Model.ipynb",
      "provenance": [],
      "authorship_tag": "ABX9TyNvXobgqIL6yjWszVDVd4ty",
      "include_colab_link": true
    },
    "kernelspec": {
      "name": "python3",
      "display_name": "Python 3"
    },
    "language_info": {
      "name": "python"
    }
  },
  "cells": [
    {
      "cell_type": "markdown",
      "metadata": {
        "id": "view-in-github",
        "colab_type": "text"
      },
      "source": [
        "<a href=\"https://colab.research.google.com/github/abhinav9629/MusicGenreClassification/blob/main/LSTM_Model.ipynb\" target=\"_parent\"><img src=\"https://colab.research.google.com/assets/colab-badge.svg\" alt=\"Open In Colab\"/></a>"
      ]
    },
    {
      "cell_type": "code",
      "metadata": {
        "colab": {
          "base_uri": "https://localhost:8080/"
        },
        "id": "Em0V-qB8eqtt",
        "outputId": "c9abe4e0-5591-49f7-e718-7fcac87ea2c7"
      },
      "source": [
        "from google.colab import drive\n",
        "drive.mount('/content/drive')"
      ],
      "execution_count": 1,
      "outputs": [
        {
          "output_type": "stream",
          "text": [
            "Mounted at /content/drive\n"
          ],
          "name": "stdout"
        }
      ]
    },
    {
      "cell_type": "code",
      "metadata": {
        "id": "XN4SJtvVe3Ap"
      },
      "source": [
        "import json\n",
        "import numpy as np\n",
        "import matplotlib.pyplot as plt\n",
        "import tensorflow.keras as keras\n",
        "from sklearn.model_selection import train_test_split"
      ],
      "execution_count": 3,
      "outputs": []
    },
    {
      "cell_type": "code",
      "metadata": {
        "id": "Z_7IbzkCfiIK"
      },
      "source": [
        "DATASET_PATH = '/content/drive/MyDrive/data.json'"
      ],
      "execution_count": 4,
      "outputs": []
    },
    {
      "cell_type": "code",
      "metadata": {
        "id": "ZVDsOj9bfv4M"
      },
      "source": [
        "def load_data(DATASET_PATH):\n",
        "  with open(DATASET_PATH,'r') as fp:\n",
        "    data = json.load(fp)\n",
        "    inputs = np.array(data['mfcc'])\n",
        "    targets = np.array(data['labels'])\n",
        "    return inputs,targets"
      ],
      "execution_count": 5,
      "outputs": []
    },
    {
      "cell_type": "code",
      "metadata": {
        "id": "5aBMsDcPfw2O"
      },
      "source": [
        "def dataset(test_size,val_size):\n",
        "  inputs,targets = load_data(DATASET_PATH=DATASET_PATH)\n",
        "  train_inputs,test_inputs,train_targets,test_targets = train_test_split(inputs,targets,test_size=test_size)\n",
        "  train_inputs,val_inputs,train_targets,val_targets = train_test_split(train_inputs,train_targets,test_size=val_size)\n",
        "  return train_inputs,val_inputs,test_inputs,train_targets,val_targets,test_targets"
      ],
      "execution_count": 6,
      "outputs": []
    },
    {
      "cell_type": "code",
      "metadata": {
        "id": "ig31xC24hN0T"
      },
      "source": [
        "train_inputs,val_inputs,test_inputs,train_targets,val_targets,test_targets = dataset(0.25,0.2)"
      ],
      "execution_count": 7,
      "outputs": []
    },
    {
      "cell_type": "code",
      "metadata": {
        "id": "RxZMFGG8hROc"
      },
      "source": [
        "#MODEL ARCHITECTURE"
      ],
      "execution_count": 8,
      "outputs": []
    },
    {
      "cell_type": "code",
      "metadata": {
        "id": "KQ2FAmFmkg_Z"
      },
      "source": [
        "model = keras.Sequential([\n",
        "  keras.layers.LSTM(64,input_shape = (train_inputs.shape[1],train_inputs.shape[2]),return_sequences=True),\n",
        "  keras.layers.LSTM(64),\n",
        "\n",
        "  keras.layers.Dense(256,activation = 'relu'),\n",
        "  keras.layers.Dropout(0.3),\n",
        "\n",
        "  keras.layers.Dense(10,activation = 'softmax')\n",
        "\n",
        "])"
      ],
      "execution_count": 11,
      "outputs": []
    },
    {
      "cell_type": "code",
      "metadata": {
        "id": "vvxQt837sWbD"
      },
      "source": [
        "optimiser = keras.optimizers.Adam(learning_rate=0.001)"
      ],
      "execution_count": 12,
      "outputs": []
    },
    {
      "cell_type": "code",
      "metadata": {
        "id": "RPuQj9x6sg23"
      },
      "source": [
        "model.compile(optimizer=optimiser,loss='sparse_categorical_crossentropy',metrics=['accuracy'])"
      ],
      "execution_count": 13,
      "outputs": []
    },
    {
      "cell_type": "code",
      "metadata": {
        "colab": {
          "base_uri": "https://localhost:8080/"
        },
        "id": "Gl9UcZeYuwow",
        "outputId": "6d2bd4b1-e181-41d2-b9ac-5aebb4f23137"
      },
      "source": [
        "model.fit(train_inputs,train_targets,validation_data=(val_inputs,val_targets),epochs = 50)"
      ],
      "execution_count": 14,
      "outputs": [
        {
          "output_type": "stream",
          "text": [
            "Epoch 1/50\n",
            "188/188 [==============================] - 30s 141ms/step - loss: 1.6834 - accuracy: 0.3975 - val_loss: 1.4513 - val_accuracy: 0.4773\n",
            "Epoch 2/50\n",
            "188/188 [==============================] - 25s 135ms/step - loss: 1.3579 - accuracy: 0.5109 - val_loss: 1.2957 - val_accuracy: 0.5247\n",
            "Epoch 3/50\n",
            "188/188 [==============================] - 26s 136ms/step - loss: 1.2280 - accuracy: 0.5586 - val_loss: 1.2040 - val_accuracy: 0.5587\n",
            "Epoch 4/50\n",
            "188/188 [==============================] - 26s 137ms/step - loss: 1.1237 - accuracy: 0.5993 - val_loss: 1.1712 - val_accuracy: 0.5747\n",
            "Epoch 5/50\n",
            "188/188 [==============================] - 26s 137ms/step - loss: 1.0506 - accuracy: 0.6251 - val_loss: 1.2107 - val_accuracy: 0.5727\n",
            "Epoch 6/50\n",
            "188/188 [==============================] - 26s 137ms/step - loss: 0.9759 - accuracy: 0.6495 - val_loss: 1.1098 - val_accuracy: 0.6253\n",
            "Epoch 7/50\n",
            "188/188 [==============================] - 26s 137ms/step - loss: 0.9340 - accuracy: 0.6675 - val_loss: 1.0687 - val_accuracy: 0.6327\n",
            "Epoch 8/50\n",
            "188/188 [==============================] - 26s 136ms/step - loss: 0.8495 - accuracy: 0.7027 - val_loss: 1.0299 - val_accuracy: 0.6400\n",
            "Epoch 9/50\n",
            "188/188 [==============================] - 26s 137ms/step - loss: 0.8030 - accuracy: 0.7230 - val_loss: 0.9904 - val_accuracy: 0.6660\n",
            "Epoch 10/50\n",
            "188/188 [==============================] - 26s 136ms/step - loss: 0.7571 - accuracy: 0.7307 - val_loss: 0.9962 - val_accuracy: 0.6807\n",
            "Epoch 11/50\n",
            "188/188 [==============================] - 26s 137ms/step - loss: 0.7097 - accuracy: 0.7524 - val_loss: 0.9805 - val_accuracy: 0.6780\n",
            "Epoch 12/50\n",
            "188/188 [==============================] - 26s 137ms/step - loss: 0.6409 - accuracy: 0.7751 - val_loss: 0.9328 - val_accuracy: 0.7033\n",
            "Epoch 13/50\n",
            "188/188 [==============================] - 25s 135ms/step - loss: 0.6076 - accuracy: 0.7897 - val_loss: 0.9443 - val_accuracy: 0.7000\n",
            "Epoch 14/50\n",
            "188/188 [==============================] - 25s 135ms/step - loss: 0.5890 - accuracy: 0.7957 - val_loss: 0.9326 - val_accuracy: 0.7060\n",
            "Epoch 15/50\n",
            "188/188 [==============================] - 26s 136ms/step - loss: 0.5232 - accuracy: 0.8191 - val_loss: 0.9127 - val_accuracy: 0.7200\n",
            "Epoch 16/50\n",
            "188/188 [==============================] - 26s 137ms/step - loss: 0.5615 - accuracy: 0.8032 - val_loss: 0.9768 - val_accuracy: 0.6980\n",
            "Epoch 17/50\n",
            "188/188 [==============================] - 26s 137ms/step - loss: 0.5430 - accuracy: 0.8181 - val_loss: 0.8899 - val_accuracy: 0.7193\n",
            "Epoch 18/50\n",
            "188/188 [==============================] - 26s 140ms/step - loss: 0.4581 - accuracy: 0.8426 - val_loss: 0.8794 - val_accuracy: 0.7260\n",
            "Epoch 19/50\n",
            "188/188 [==============================] - 26s 138ms/step - loss: 0.4514 - accuracy: 0.8433 - val_loss: 0.8216 - val_accuracy: 0.7400\n",
            "Epoch 20/50\n",
            "188/188 [==============================] - 26s 137ms/step - loss: 0.4218 - accuracy: 0.8514 - val_loss: 0.9436 - val_accuracy: 0.7173\n",
            "Epoch 21/50\n",
            "188/188 [==============================] - 26s 138ms/step - loss: 0.3917 - accuracy: 0.8651 - val_loss: 0.8634 - val_accuracy: 0.7287\n",
            "Epoch 22/50\n",
            "188/188 [==============================] - 26s 138ms/step - loss: 0.3680 - accuracy: 0.8741 - val_loss: 0.8448 - val_accuracy: 0.7407\n",
            "Epoch 23/50\n",
            "188/188 [==============================] - 26s 136ms/step - loss: 0.3396 - accuracy: 0.8839 - val_loss: 0.8185 - val_accuracy: 0.7520\n",
            "Epoch 24/50\n",
            "188/188 [==============================] - 26s 136ms/step - loss: 0.3158 - accuracy: 0.8934 - val_loss: 0.9407 - val_accuracy: 0.7300\n",
            "Epoch 25/50\n",
            "188/188 [==============================] - 26s 138ms/step - loss: 0.3501 - accuracy: 0.8776 - val_loss: 0.8341 - val_accuracy: 0.7567\n",
            "Epoch 26/50\n",
            "188/188 [==============================] - 26s 137ms/step - loss: 0.2927 - accuracy: 0.8974 - val_loss: 0.9034 - val_accuracy: 0.7487\n",
            "Epoch 27/50\n",
            "188/188 [==============================] - 26s 138ms/step - loss: 0.3224 - accuracy: 0.8858 - val_loss: 0.8501 - val_accuracy: 0.7560\n",
            "Epoch 28/50\n",
            "188/188 [==============================] - 26s 137ms/step - loss: 0.2737 - accuracy: 0.9076 - val_loss: 0.9537 - val_accuracy: 0.7367\n",
            "Epoch 29/50\n",
            "188/188 [==============================] - 25s 135ms/step - loss: 0.3147 - accuracy: 0.8931 - val_loss: 0.8536 - val_accuracy: 0.7453\n",
            "Epoch 30/50\n",
            "188/188 [==============================] - 26s 136ms/step - loss: 0.2283 - accuracy: 0.9210 - val_loss: 0.9069 - val_accuracy: 0.7700\n",
            "Epoch 31/50\n",
            "188/188 [==============================] - 26s 137ms/step - loss: 0.2331 - accuracy: 0.9218 - val_loss: 0.9323 - val_accuracy: 0.7473\n",
            "Epoch 32/50\n",
            "188/188 [==============================] - 26s 137ms/step - loss: 0.2156 - accuracy: 0.9265 - val_loss: 0.9797 - val_accuracy: 0.7573\n",
            "Epoch 33/50\n",
            "188/188 [==============================] - 26s 136ms/step - loss: 0.1977 - accuracy: 0.9353 - val_loss: 0.9447 - val_accuracy: 0.7613\n",
            "Epoch 34/50\n",
            "188/188 [==============================] - 26s 138ms/step - loss: 0.1910 - accuracy: 0.9335 - val_loss: 1.0301 - val_accuracy: 0.7660\n",
            "Epoch 35/50\n",
            "188/188 [==============================] - 26s 137ms/step - loss: 0.2103 - accuracy: 0.9261 - val_loss: 1.0286 - val_accuracy: 0.7520\n",
            "Epoch 36/50\n",
            "188/188 [==============================] - 26s 136ms/step - loss: 0.1946 - accuracy: 0.9350 - val_loss: 0.9078 - val_accuracy: 0.7653\n",
            "Epoch 37/50\n",
            "188/188 [==============================] - 26s 136ms/step - loss: 0.1805 - accuracy: 0.9406 - val_loss: 0.9766 - val_accuracy: 0.7740\n",
            "Epoch 38/50\n",
            "188/188 [==============================] - 26s 136ms/step - loss: 0.1740 - accuracy: 0.9413 - val_loss: 1.0042 - val_accuracy: 0.7647\n",
            "Epoch 39/50\n",
            "188/188 [==============================] - 26s 139ms/step - loss: 0.2148 - accuracy: 0.9243 - val_loss: 0.9322 - val_accuracy: 0.7793\n",
            "Epoch 40/50\n",
            "188/188 [==============================] - 26s 136ms/step - loss: 0.1701 - accuracy: 0.9425 - val_loss: 0.8847 - val_accuracy: 0.7880\n",
            "Epoch 41/50\n",
            "188/188 [==============================] - 26s 137ms/step - loss: 0.1362 - accuracy: 0.9526 - val_loss: 1.0540 - val_accuracy: 0.7653\n",
            "Epoch 42/50\n",
            "188/188 [==============================] - 26s 137ms/step - loss: 0.1658 - accuracy: 0.9420 - val_loss: 1.0332 - val_accuracy: 0.7533\n",
            "Epoch 43/50\n",
            "188/188 [==============================] - 26s 139ms/step - loss: 0.1605 - accuracy: 0.9485 - val_loss: 1.0341 - val_accuracy: 0.7673\n",
            "Epoch 44/50\n",
            "188/188 [==============================] - 26s 141ms/step - loss: 0.1390 - accuracy: 0.9546 - val_loss: 1.0057 - val_accuracy: 0.7820\n",
            "Epoch 45/50\n",
            "188/188 [==============================] - 26s 141ms/step - loss: 0.1220 - accuracy: 0.9605 - val_loss: 0.9808 - val_accuracy: 0.7880\n",
            "Epoch 46/50\n",
            "188/188 [==============================] - 28s 147ms/step - loss: 0.1186 - accuracy: 0.9610 - val_loss: 1.0616 - val_accuracy: 0.7620\n",
            "Epoch 47/50\n",
            "188/188 [==============================] - 26s 141ms/step - loss: 0.1713 - accuracy: 0.9435 - val_loss: 1.0379 - val_accuracy: 0.7467\n",
            "Epoch 48/50\n",
            "188/188 [==============================] - 26s 138ms/step - loss: 0.1360 - accuracy: 0.9528 - val_loss: 1.0310 - val_accuracy: 0.7827\n",
            "Epoch 49/50\n",
            "188/188 [==============================] - 26s 137ms/step - loss: 0.0885 - accuracy: 0.9717 - val_loss: 1.0408 - val_accuracy: 0.7660\n",
            "Epoch 50/50\n",
            "188/188 [==============================] - 26s 137ms/step - loss: 0.1007 - accuracy: 0.9693 - val_loss: 1.0524 - val_accuracy: 0.7753\n"
          ],
          "name": "stdout"
        },
        {
          "output_type": "execute_result",
          "data": {
            "text/plain": [
              "<tensorflow.python.keras.callbacks.History at 0x7f9cbcf5a990>"
            ]
          },
          "metadata": {
            "tags": []
          },
          "execution_count": 14
        }
      ]
    },
    {
      "cell_type": "code",
      "metadata": {
        "colab": {
          "base_uri": "https://localhost:8080/"
        },
        "id": "3T6jOVySvKuo",
        "outputId": "47305e05-0976-4e2b-a583-ff91ace844f3"
      },
      "source": [
        "model.evaluate(test_inputs,test_targets)"
      ],
      "execution_count": 15,
      "outputs": [
        {
          "output_type": "stream",
          "text": [
            "79/79 [==============================] - 3s 34ms/step - loss: 1.0042 - accuracy: 0.7815\n"
          ],
          "name": "stdout"
        },
        {
          "output_type": "execute_result",
          "data": {
            "text/plain": [
              "[1.0041537284851074, 0.7815126180648804]"
            ]
          },
          "metadata": {
            "tags": []
          },
          "execution_count": 15
        }
      ]
    },
    {
      "cell_type": "code",
      "metadata": {
        "id": "CUT1RXzX1Kbn"
      },
      "source": [
        ""
      ],
      "execution_count": null,
      "outputs": []
    }
  ]
}