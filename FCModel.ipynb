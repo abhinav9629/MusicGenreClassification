{
  "nbformat": 4,
  "nbformat_minor": 0,
  "metadata": {
    "colab": {
      "name": "FCModel.ipynb",
      "provenance": [],
      "authorship_tag": "ABX9TyO/+c4pnOFJiLAYiGzO11jA",
      "include_colab_link": true
    },
    "kernelspec": {
      "name": "python3",
      "display_name": "Python 3"
    },
    "language_info": {
      "name": "python"
    }
  },
  "cells": [
    {
      "cell_type": "markdown",
      "metadata": {
        "id": "view-in-github",
        "colab_type": "text"
      },
      "source": [
        "<a href=\"https://colab.research.google.com/github/abhinav9629/MusicGenreClassification/blob/main/FCModel.ipynb\" target=\"_parent\"><img src=\"https://colab.research.google.com/assets/colab-badge.svg\" alt=\"Open In Colab\"/></a>"
      ]
    },
    {
      "cell_type": "code",
      "metadata": {
        "colab": {
          "base_uri": "https://localhost:8080/"
        },
        "id": "EGxnwQzIf2Jl",
        "outputId": "45b09abc-8280-4308-ef79-4169c940d91e"
      },
      "source": [
        "from google.colab import drive\n",
        "drive.mount('/content/drive')"
      ],
      "execution_count": 3,
      "outputs": [
        {
          "output_type": "stream",
          "text": [
            "Mounted at /content/drive\n"
          ],
          "name": "stdout"
        }
      ]
    },
    {
      "cell_type": "code",
      "metadata": {
        "id": "ld8GhlTvgypH"
      },
      "source": [
        "import json\n",
        "import numpy as np \n",
        "import matplotlib.pyplot as plt\n",
        "import librosa,librosa.display\n",
        "from sklearn.model_selection import train_test_split\n",
        "import tensorflow.keras as keras"
      ],
      "execution_count": 4,
      "outputs": []
    },
    {
      "cell_type": "code",
      "metadata": {
        "id": "0vRHALUJi0L5"
      },
      "source": [
        "DATASET_PATH = \"/content/drive/MyDrive/data.json\""
      ],
      "execution_count": 5,
      "outputs": []
    },
    {
      "cell_type": "code",
      "metadata": {
        "id": "nb8ZBoMHhKje"
      },
      "source": [
        "def load_data(dataset_path):\n",
        "  with open(dataset_path,'r') as fp:\n",
        "    data = json.load(fp)\n",
        "  inputs = np.array(data['mfcc'])\n",
        "  targets = np.array(data['labels'])\n",
        "  \n",
        "  return inputs,targets"
      ],
      "execution_count": 6,
      "outputs": []
    },
    {
      "cell_type": "code",
      "metadata": {
        "id": "1tyiPumFhp0c"
      },
      "source": [
        "\n",
        "inputs,targets = load_data(DATASET_PATH)\n",
        "train_inputs,test_inputs,train_targets,test_targets = train_test_split(inputs,targets,test_size = 0.3)\n",
        "\n"
      ],
      "execution_count": 7,
      "outputs": []
    },
    {
      "cell_type": "code",
      "metadata": {
        "colab": {
          "base_uri": "https://localhost:8080/"
        },
        "id": "B6KOa1-bB70Y",
        "outputId": "ef18dc24-04fd-4c11-bb48-7007b6664d51"
      },
      "source": [
        "train_inputs.shape\n",
        "\n",
        "\n"
      ],
      "execution_count": 8,
      "outputs": [
        {
          "output_type": "execute_result",
          "data": {
            "text/plain": [
              "(6997, 130, 13)"
            ]
          },
          "metadata": {
            "tags": []
          },
          "execution_count": 8
        }
      ]
    },
    {
      "cell_type": "code",
      "metadata": {
        "id": "yg4gZlxHjOj-"
      },
      "source": [
        "model = keras.Sequential([\n",
        "  keras.layers.Flatten(input_shape = (inputs.shape[1],inputs.shape[2])),\n",
        "  keras.layers.Dense(1024,activation='relu'),\n",
        "  keras.layers.Dropout(0.2),\n",
        "  keras.layers.Dense(512,activation='relu'),\n",
        "  keras.layers.Dropout(0.2),\n",
        "  keras.layers.Dense(256,activation='relu'),\n",
        "  keras.layers.Dropout(0.2),\n",
        "  keras.layers.Dense(64,activation='relu'),\n",
        "  keras.layers.Dense(10,activation='softmax')\n",
        "])\n",
        "\n"
      ],
      "execution_count": 9,
      "outputs": []
    },
    {
      "cell_type": "code",
      "metadata": {
        "id": "leHwv0-13GP1"
      },
      "source": [
        "optimiser = keras.optimizers.Adam(learning_rate=0.0001)"
      ],
      "execution_count": 10,
      "outputs": []
    },
    {
      "cell_type": "code",
      "metadata": {
        "colab": {
          "base_uri": "https://localhost:8080/"
        },
        "id": "Kwf2SZgc41b9",
        "outputId": "454b9098-50ac-41c7-f539-6214ab5a3939"
      },
      "source": [
        "model.compile(optimizer=optimiser,loss=\"sparse_categorical_crossentropy\",metrics=[\"accuracy\"])\n",
        "model.summary()"
      ],
      "execution_count": 11,
      "outputs": [
        {
          "output_type": "stream",
          "text": [
            "Model: \"sequential\"\n",
            "_________________________________________________________________\n",
            "Layer (type)                 Output Shape              Param #   \n",
            "=================================================================\n",
            "flatten (Flatten)            (None, 1690)              0         \n",
            "_________________________________________________________________\n",
            "dense (Dense)                (None, 1024)              1731584   \n",
            "_________________________________________________________________\n",
            "dropout (Dropout)            (None, 1024)              0         \n",
            "_________________________________________________________________\n",
            "dense_1 (Dense)              (None, 512)               524800    \n",
            "_________________________________________________________________\n",
            "dropout_1 (Dropout)          (None, 512)               0         \n",
            "_________________________________________________________________\n",
            "dense_2 (Dense)              (None, 256)               131328    \n",
            "_________________________________________________________________\n",
            "dropout_2 (Dropout)          (None, 256)               0         \n",
            "_________________________________________________________________\n",
            "dense_3 (Dense)              (None, 64)                16448     \n",
            "_________________________________________________________________\n",
            "dense_4 (Dense)              (None, 10)                650       \n",
            "=================================================================\n",
            "Total params: 2,404,810\n",
            "Trainable params: 2,404,810\n",
            "Non-trainable params: 0\n",
            "_________________________________________________________________\n"
          ],
          "name": "stdout"
        }
      ]
    },
    {
      "cell_type": "code",
      "metadata": {
        "colab": {
          "base_uri": "https://localhost:8080/"
        },
        "id": "rs96a-EV9bVc",
        "outputId": "be465210-4b11-40e7-e6aa-6066d09301a2"
      },
      "source": [
        "model.fit(train_inputs,train_targets,validation_data=(test_inputs,test_targets),epochs=100,batch_size=32)"
      ],
      "execution_count": 12,
      "outputs": [
        {
          "output_type": "stream",
          "text": [
            "Epoch 1/100\n",
            "219/219 [==============================] - 7s 28ms/step - loss: 10.5393 - accuracy: 0.1871 - val_loss: 2.0017 - val_accuracy: 0.2631\n",
            "Epoch 2/100\n",
            "219/219 [==============================] - 6s 28ms/step - loss: 2.9763 - accuracy: 0.2155 - val_loss: 1.9755 - val_accuracy: 0.2101\n",
            "Epoch 3/100\n",
            "219/219 [==============================] - 6s 27ms/step - loss: 2.3234 - accuracy: 0.2485 - val_loss: 1.9004 - val_accuracy: 0.3531\n",
            "Epoch 4/100\n",
            "219/219 [==============================] - 6s 27ms/step - loss: 2.1077 - accuracy: 0.2913 - val_loss: 1.8420 - val_accuracy: 0.3768\n",
            "Epoch 5/100\n",
            "219/219 [==============================] - 6s 27ms/step - loss: 2.0351 - accuracy: 0.3156 - val_loss: 1.8031 - val_accuracy: 0.3595\n",
            "Epoch 6/100\n",
            "219/219 [==============================] - 6s 27ms/step - loss: 1.9235 - accuracy: 0.3236 - val_loss: 1.7514 - val_accuracy: 0.3581\n",
            "Epoch 7/100\n",
            "219/219 [==============================] - 6s 28ms/step - loss: 1.8429 - accuracy: 0.3526 - val_loss: 1.7129 - val_accuracy: 0.3828\n",
            "Epoch 8/100\n",
            "219/219 [==============================] - 6s 27ms/step - loss: 1.8027 - accuracy: 0.3546 - val_loss: 1.7101 - val_accuracy: 0.3698\n",
            "Epoch 9/100\n",
            "219/219 [==============================] - 6s 27ms/step - loss: 1.7504 - accuracy: 0.3663 - val_loss: 1.6511 - val_accuracy: 0.3975\n",
            "Epoch 10/100\n",
            "219/219 [==============================] - 6s 27ms/step - loss: 1.7102 - accuracy: 0.3760 - val_loss: 1.6315 - val_accuracy: 0.3965\n",
            "Epoch 11/100\n",
            "219/219 [==============================] - 6s 27ms/step - loss: 1.6725 - accuracy: 0.3907 - val_loss: 1.5988 - val_accuracy: 0.4055\n",
            "Epoch 12/100\n",
            "219/219 [==============================] - 6s 27ms/step - loss: 1.6394 - accuracy: 0.3965 - val_loss: 1.5629 - val_accuracy: 0.4185\n",
            "Epoch 13/100\n",
            "219/219 [==============================] - 6s 27ms/step - loss: 1.6038 - accuracy: 0.4100 - val_loss: 1.5473 - val_accuracy: 0.4445\n",
            "Epoch 14/100\n",
            "219/219 [==============================] - 6s 28ms/step - loss: 1.5666 - accuracy: 0.4228 - val_loss: 1.5430 - val_accuracy: 0.4235\n",
            "Epoch 15/100\n",
            "219/219 [==============================] - 6s 29ms/step - loss: 1.5429 - accuracy: 0.4335 - val_loss: 1.5352 - val_accuracy: 0.4265\n",
            "Epoch 16/100\n",
            "219/219 [==============================] - 6s 28ms/step - loss: 1.4926 - accuracy: 0.4455 - val_loss: 1.4762 - val_accuracy: 0.4655\n",
            "Epoch 17/100\n",
            "219/219 [==============================] - 6s 29ms/step - loss: 1.4623 - accuracy: 0.4642 - val_loss: 1.4581 - val_accuracy: 0.4772\n",
            "Epoch 18/100\n",
            "219/219 [==============================] - 6s 27ms/step - loss: 1.4271 - accuracy: 0.4742 - val_loss: 1.4074 - val_accuracy: 0.4915\n",
            "Epoch 19/100\n",
            "219/219 [==============================] - 6s 27ms/step - loss: 1.3837 - accuracy: 0.4866 - val_loss: 1.4249 - val_accuracy: 0.4852\n",
            "Epoch 20/100\n",
            "219/219 [==============================] - 6s 27ms/step - loss: 1.3424 - accuracy: 0.5061 - val_loss: 1.3967 - val_accuracy: 0.4965\n",
            "Epoch 21/100\n",
            "219/219 [==============================] - 6s 26ms/step - loss: 1.3071 - accuracy: 0.5204 - val_loss: 1.3840 - val_accuracy: 0.5102\n",
            "Epoch 22/100\n",
            "219/219 [==============================] - 6s 26ms/step - loss: 1.2793 - accuracy: 0.5312 - val_loss: 1.3690 - val_accuracy: 0.5105\n",
            "Epoch 23/100\n",
            "219/219 [==============================] - 6s 26ms/step - loss: 1.2395 - accuracy: 0.5491 - val_loss: 1.3476 - val_accuracy: 0.5078\n",
            "Epoch 24/100\n",
            "219/219 [==============================] - 6s 27ms/step - loss: 1.1955 - accuracy: 0.5541 - val_loss: 1.3236 - val_accuracy: 0.5315\n",
            "Epoch 25/100\n",
            "219/219 [==============================] - 6s 26ms/step - loss: 1.1725 - accuracy: 0.5685 - val_loss: 1.3313 - val_accuracy: 0.5298\n",
            "Epoch 26/100\n",
            "219/219 [==============================] - 6s 26ms/step - loss: 1.1486 - accuracy: 0.5821 - val_loss: 1.3300 - val_accuracy: 0.5372\n",
            "Epoch 27/100\n",
            "219/219 [==============================] - 6s 27ms/step - loss: 1.1231 - accuracy: 0.5883 - val_loss: 1.3583 - val_accuracy: 0.5182\n",
            "Epoch 28/100\n",
            "219/219 [==============================] - 6s 27ms/step - loss: 1.0944 - accuracy: 0.5994 - val_loss: 1.3133 - val_accuracy: 0.5515\n",
            "Epoch 29/100\n",
            "219/219 [==============================] - 6s 27ms/step - loss: 1.0576 - accuracy: 0.6161 - val_loss: 1.2863 - val_accuracy: 0.5605\n",
            "Epoch 30/100\n",
            "219/219 [==============================] - 6s 26ms/step - loss: 1.0527 - accuracy: 0.6207 - val_loss: 1.3190 - val_accuracy: 0.5452\n",
            "Epoch 31/100\n",
            "219/219 [==============================] - 6s 26ms/step - loss: 0.9919 - accuracy: 0.6363 - val_loss: 1.2972 - val_accuracy: 0.5625\n",
            "Epoch 32/100\n",
            "219/219 [==============================] - 6s 26ms/step - loss: 0.9718 - accuracy: 0.6443 - val_loss: 1.2600 - val_accuracy: 0.5782\n",
            "Epoch 33/100\n",
            "219/219 [==============================] - 6s 28ms/step - loss: 0.9403 - accuracy: 0.6526 - val_loss: 1.3075 - val_accuracy: 0.5679\n",
            "Epoch 34/100\n",
            "219/219 [==============================] - 6s 27ms/step - loss: 0.8954 - accuracy: 0.6730 - val_loss: 1.2693 - val_accuracy: 0.5852\n",
            "Epoch 35/100\n",
            "219/219 [==============================] - 6s 28ms/step - loss: 0.8822 - accuracy: 0.6776 - val_loss: 1.3211 - val_accuracy: 0.5862\n",
            "Epoch 36/100\n",
            "219/219 [==============================] - 6s 29ms/step - loss: 0.8328 - accuracy: 0.7004 - val_loss: 1.3202 - val_accuracy: 0.5869\n",
            "Epoch 37/100\n",
            "219/219 [==============================] - 7s 30ms/step - loss: 0.8026 - accuracy: 0.7094 - val_loss: 1.2886 - val_accuracy: 0.5785\n",
            "Epoch 38/100\n",
            "219/219 [==============================] - 6s 28ms/step - loss: 0.8066 - accuracy: 0.7175 - val_loss: 1.2995 - val_accuracy: 0.5982\n",
            "Epoch 39/100\n",
            "219/219 [==============================] - 6s 28ms/step - loss: 0.7688 - accuracy: 0.7239 - val_loss: 1.2984 - val_accuracy: 0.5962\n",
            "Epoch 40/100\n",
            "219/219 [==============================] - 6s 29ms/step - loss: 0.7247 - accuracy: 0.7359 - val_loss: 1.2617 - val_accuracy: 0.6135\n",
            "Epoch 41/100\n",
            "219/219 [==============================] - 6s 29ms/step - loss: 0.7048 - accuracy: 0.7430 - val_loss: 1.3635 - val_accuracy: 0.6045\n",
            "Epoch 42/100\n",
            "219/219 [==============================] - 7s 30ms/step - loss: 0.6817 - accuracy: 0.7559 - val_loss: 1.3126 - val_accuracy: 0.6115\n",
            "Epoch 43/100\n",
            "219/219 [==============================] - 6s 27ms/step - loss: 0.6472 - accuracy: 0.7688 - val_loss: 1.2848 - val_accuracy: 0.6142\n",
            "Epoch 44/100\n",
            "219/219 [==============================] - 6s 27ms/step - loss: 0.6401 - accuracy: 0.7676 - val_loss: 1.3464 - val_accuracy: 0.5962\n",
            "Epoch 45/100\n",
            "219/219 [==============================] - 6s 26ms/step - loss: 0.6154 - accuracy: 0.7853 - val_loss: 1.3530 - val_accuracy: 0.6255\n",
            "Epoch 46/100\n",
            "219/219 [==============================] - 6s 26ms/step - loss: 0.6078 - accuracy: 0.7865 - val_loss: 1.3515 - val_accuracy: 0.6255\n",
            "Epoch 47/100\n",
            "219/219 [==============================] - 6s 27ms/step - loss: 0.5680 - accuracy: 0.7965 - val_loss: 1.3564 - val_accuracy: 0.6295\n",
            "Epoch 48/100\n",
            "219/219 [==============================] - 6s 27ms/step - loss: 0.5603 - accuracy: 0.8008 - val_loss: 1.3599 - val_accuracy: 0.6329\n",
            "Epoch 49/100\n",
            "219/219 [==============================] - 6s 27ms/step - loss: 0.5558 - accuracy: 0.8021 - val_loss: 1.3650 - val_accuracy: 0.6245\n",
            "Epoch 50/100\n",
            "219/219 [==============================] - 6s 26ms/step - loss: 0.5258 - accuracy: 0.8091 - val_loss: 1.3111 - val_accuracy: 0.6365\n",
            "Epoch 51/100\n",
            "219/219 [==============================] - 6s 28ms/step - loss: 0.4949 - accuracy: 0.8214 - val_loss: 1.3822 - val_accuracy: 0.6352\n",
            "Epoch 52/100\n",
            "219/219 [==============================] - 6s 28ms/step - loss: 0.4889 - accuracy: 0.8246 - val_loss: 1.3750 - val_accuracy: 0.6339\n",
            "Epoch 53/100\n",
            "219/219 [==============================] - 6s 28ms/step - loss: 0.4430 - accuracy: 0.8452 - val_loss: 1.3669 - val_accuracy: 0.6339\n",
            "Epoch 54/100\n",
            "219/219 [==============================] - 6s 27ms/step - loss: 0.4523 - accuracy: 0.8384 - val_loss: 1.4491 - val_accuracy: 0.6389\n",
            "Epoch 55/100\n",
            "219/219 [==============================] - 6s 28ms/step - loss: 0.4146 - accuracy: 0.8554 - val_loss: 1.4165 - val_accuracy: 0.6469\n",
            "Epoch 56/100\n",
            "219/219 [==============================] - 6s 27ms/step - loss: 0.4017 - accuracy: 0.8565 - val_loss: 1.4891 - val_accuracy: 0.6342\n",
            "Epoch 57/100\n",
            "219/219 [==============================] - 6s 26ms/step - loss: 0.4233 - accuracy: 0.8531 - val_loss: 1.3854 - val_accuracy: 0.6442\n",
            "Epoch 58/100\n",
            "219/219 [==============================] - 6s 28ms/step - loss: 0.4002 - accuracy: 0.8622 - val_loss: 1.4392 - val_accuracy: 0.6402\n",
            "Epoch 59/100\n",
            "219/219 [==============================] - 6s 28ms/step - loss: 0.3894 - accuracy: 0.8664 - val_loss: 1.4700 - val_accuracy: 0.6489\n",
            "Epoch 60/100\n",
            "219/219 [==============================] - 6s 28ms/step - loss: 0.3563 - accuracy: 0.8727 - val_loss: 1.4588 - val_accuracy: 0.6482\n",
            "Epoch 61/100\n",
            "219/219 [==============================] - 6s 29ms/step - loss: 0.3698 - accuracy: 0.8681 - val_loss: 1.5369 - val_accuracy: 0.6439\n",
            "Epoch 62/100\n",
            "219/219 [==============================] - 6s 29ms/step - loss: 0.3559 - accuracy: 0.8765 - val_loss: 1.4288 - val_accuracy: 0.6445\n",
            "Epoch 63/100\n",
            "219/219 [==============================] - 6s 26ms/step - loss: 0.3270 - accuracy: 0.8868 - val_loss: 1.5065 - val_accuracy: 0.6465\n",
            "Epoch 64/100\n",
            "219/219 [==============================] - 6s 29ms/step - loss: 0.3163 - accuracy: 0.8894 - val_loss: 1.5188 - val_accuracy: 0.6472\n",
            "Epoch 65/100\n",
            "219/219 [==============================] - 9s 39ms/step - loss: 0.3406 - accuracy: 0.8831 - val_loss: 1.5427 - val_accuracy: 0.6365\n",
            "Epoch 66/100\n",
            "219/219 [==============================] - 6s 29ms/step - loss: 0.3255 - accuracy: 0.8884 - val_loss: 1.4618 - val_accuracy: 0.6369\n",
            "Epoch 67/100\n",
            "219/219 [==============================] - 6s 27ms/step - loss: 0.3179 - accuracy: 0.8910 - val_loss: 1.5399 - val_accuracy: 0.6442\n",
            "Epoch 68/100\n",
            "219/219 [==============================] - 6s 27ms/step - loss: 0.2711 - accuracy: 0.9051 - val_loss: 1.5125 - val_accuracy: 0.6582\n",
            "Epoch 69/100\n",
            "219/219 [==============================] - 6s 27ms/step - loss: 0.2642 - accuracy: 0.9091 - val_loss: 1.5162 - val_accuracy: 0.6442\n",
            "Epoch 70/100\n",
            "219/219 [==============================] - 6s 27ms/step - loss: 0.2978 - accuracy: 0.9000 - val_loss: 1.6029 - val_accuracy: 0.6389\n",
            "Epoch 71/100\n",
            "219/219 [==============================] - 6s 27ms/step - loss: 0.2653 - accuracy: 0.9077 - val_loss: 1.5366 - val_accuracy: 0.6519\n",
            "Epoch 72/100\n",
            "219/219 [==============================] - 6s 27ms/step - loss: 0.2707 - accuracy: 0.9054 - val_loss: 1.5811 - val_accuracy: 0.6586\n",
            "Epoch 73/100\n",
            "219/219 [==============================] - 6s 27ms/step - loss: 0.2423 - accuracy: 0.9151 - val_loss: 1.6178 - val_accuracy: 0.6495\n",
            "Epoch 74/100\n",
            "219/219 [==============================] - 6s 26ms/step - loss: 0.2451 - accuracy: 0.9144 - val_loss: 1.6875 - val_accuracy: 0.6506\n",
            "Epoch 75/100\n",
            "219/219 [==============================] - 6s 27ms/step - loss: 0.2479 - accuracy: 0.9151 - val_loss: 1.6277 - val_accuracy: 0.6506\n",
            "Epoch 76/100\n",
            "219/219 [==============================] - 6s 27ms/step - loss: 0.2319 - accuracy: 0.9218 - val_loss: 1.5670 - val_accuracy: 0.6652\n",
            "Epoch 77/100\n",
            "219/219 [==============================] - 6s 28ms/step - loss: 0.2424 - accuracy: 0.9197 - val_loss: 1.6314 - val_accuracy: 0.6509\n",
            "Epoch 78/100\n",
            "219/219 [==============================] - 6s 27ms/step - loss: 0.2247 - accuracy: 0.9214 - val_loss: 1.5588 - val_accuracy: 0.6649\n",
            "Epoch 79/100\n",
            "219/219 [==============================] - 6s 27ms/step - loss: 0.2154 - accuracy: 0.9255 - val_loss: 1.6176 - val_accuracy: 0.6642\n",
            "Epoch 80/100\n",
            "219/219 [==============================] - 6s 28ms/step - loss: 0.2274 - accuracy: 0.9235 - val_loss: 1.7196 - val_accuracy: 0.6532\n",
            "Epoch 81/100\n",
            "219/219 [==============================] - 6s 26ms/step - loss: 0.2389 - accuracy: 0.9165 - val_loss: 1.6724 - val_accuracy: 0.6582\n",
            "Epoch 82/100\n",
            "219/219 [==============================] - 6s 26ms/step - loss: 0.1993 - accuracy: 0.9367 - val_loss: 1.6882 - val_accuracy: 0.6579\n",
            "Epoch 83/100\n",
            "219/219 [==============================] - 6s 27ms/step - loss: 0.1941 - accuracy: 0.9335 - val_loss: 1.7697 - val_accuracy: 0.6572\n",
            "Epoch 84/100\n",
            "219/219 [==============================] - 6s 27ms/step - loss: 0.2113 - accuracy: 0.9293 - val_loss: 1.5584 - val_accuracy: 0.6646\n",
            "Epoch 85/100\n",
            "219/219 [==============================] - 6s 27ms/step - loss: 0.1718 - accuracy: 0.9428 - val_loss: 1.7089 - val_accuracy: 0.6596\n",
            "Epoch 86/100\n",
            "219/219 [==============================] - 6s 27ms/step - loss: 0.1806 - accuracy: 0.9380 - val_loss: 1.7031 - val_accuracy: 0.6606\n",
            "Epoch 87/100\n",
            "219/219 [==============================] - 6s 27ms/step - loss: 0.1847 - accuracy: 0.9410 - val_loss: 1.7659 - val_accuracy: 0.6425\n",
            "Epoch 88/100\n",
            "219/219 [==============================] - 6s 26ms/step - loss: 0.1906 - accuracy: 0.9371 - val_loss: 1.7888 - val_accuracy: 0.6389\n",
            "Epoch 89/100\n",
            "219/219 [==============================] - 6s 27ms/step - loss: 0.1904 - accuracy: 0.9367 - val_loss: 1.7422 - val_accuracy: 0.6526\n",
            "Epoch 90/100\n",
            "219/219 [==============================] - 6s 28ms/step - loss: 0.2064 - accuracy: 0.9315 - val_loss: 1.7302 - val_accuracy: 0.6662\n",
            "Epoch 91/100\n",
            "219/219 [==============================] - 6s 28ms/step - loss: 0.1739 - accuracy: 0.9455 - val_loss: 1.8108 - val_accuracy: 0.6582\n",
            "Epoch 92/100\n",
            "219/219 [==============================] - 6s 29ms/step - loss: 0.1526 - accuracy: 0.9516 - val_loss: 1.6911 - val_accuracy: 0.6609\n",
            "Epoch 93/100\n",
            "219/219 [==============================] - 6s 29ms/step - loss: 0.1658 - accuracy: 0.9447 - val_loss: 1.7895 - val_accuracy: 0.6452\n",
            "Epoch 94/100\n",
            "219/219 [==============================] - 6s 28ms/step - loss: 0.1743 - accuracy: 0.9450 - val_loss: 1.7456 - val_accuracy: 0.6576\n",
            "Epoch 95/100\n",
            "219/219 [==============================] - 6s 28ms/step - loss: 0.1603 - accuracy: 0.9460 - val_loss: 1.8421 - val_accuracy: 0.6516\n",
            "Epoch 96/100\n",
            "219/219 [==============================] - 6s 27ms/step - loss: 0.1783 - accuracy: 0.9403 - val_loss: 1.7791 - val_accuracy: 0.6579\n",
            "Epoch 97/100\n",
            "219/219 [==============================] - 6s 27ms/step - loss: 0.1690 - accuracy: 0.9434 - val_loss: 1.7896 - val_accuracy: 0.6559\n",
            "Epoch 98/100\n",
            "219/219 [==============================] - 6s 27ms/step - loss: 0.1419 - accuracy: 0.9511 - val_loss: 1.7525 - val_accuracy: 0.6649\n",
            "Epoch 99/100\n",
            "219/219 [==============================] - 6s 27ms/step - loss: 0.1469 - accuracy: 0.9501 - val_loss: 1.9031 - val_accuracy: 0.6592\n",
            "Epoch 100/100\n",
            "219/219 [==============================] - 6s 27ms/step - loss: 0.1492 - accuracy: 0.9498 - val_loss: 1.8719 - val_accuracy: 0.6586\n"
          ],
          "name": "stdout"
        },
        {
          "output_type": "execute_result",
          "data": {
            "text/plain": [
              "<tensorflow.python.keras.callbacks.History at 0x7f2b3c95d7d0>"
            ]
          },
          "metadata": {
            "tags": []
          },
          "execution_count": 12
        }
      ]
    },
    {
      "cell_type": "code",
      "metadata": {
        "colab": {
          "base_uri": "https://localhost:8080/"
        },
        "id": "7x6jAFk6_nXP",
        "outputId": "9ea953f9-9eab-46f9-e09b-5ab9fe0acac4"
      },
      "source": [
        "model.evaluate(test_inputs,test_targets)"
      ],
      "execution_count": 13,
      "outputs": [
        {
          "output_type": "stream",
          "text": [
            "94/94 [==============================] - 1s 6ms/step - loss: 1.8719 - accuracy: 0.6586\n"
          ],
          "name": "stdout"
        },
        {
          "output_type": "execute_result",
          "data": {
            "text/plain": [
              "[1.871917486190796, 0.6585528254508972]"
            ]
          },
          "metadata": {
            "tags": []
          },
          "execution_count": 13
        }
      ]
    },
    {
      "cell_type": "code",
      "metadata": {
        "id": "4ts7Ilommy6j"
      },
      "source": [
        "model.save('/content/drive/MyDrive/Music Genre Classification')"
      ],
      "execution_count": null,
      "outputs": []
    }
  ]
}