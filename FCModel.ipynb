{
  "nbformat": 4,
  "nbformat_minor": 0,
  "metadata": {
    "colab": {
      "name": "FCModel.ipynb",
      "provenance": [],
      "authorship_tag": "ABX9TyM3tj+Y+m6X4pqDpcWNkatm",
      "include_colab_link": true
    },
    "kernelspec": {
      "name": "python3",
      "display_name": "Python 3"
    },
    "language_info": {
      "name": "python"
    }
  },
  "cells": [
    {
      "cell_type": "markdown",
      "metadata": {
        "id": "view-in-github",
        "colab_type": "text"
      },
      "source": [
        "<a href=\"https://colab.research.google.com/github/abhinav9629/MusicGenreClassification/blob/main/FCModel.ipynb\" target=\"_parent\"><img src=\"https://colab.research.google.com/assets/colab-badge.svg\" alt=\"Open In Colab\"/></a>"
      ]
    },
    {
      "cell_type": "code",
      "metadata": {
        "colab": {
          "base_uri": "https://localhost:8080/"
        },
        "id": "EGxnwQzIf2Jl",
        "outputId": "3aa7c7b1-5f7b-4be3-ea54-b12469e5b654"
      },
      "source": [
        "from google.colab import drive\n",
        "drive.mount('/content/drive')"
      ],
      "execution_count": 1,
      "outputs": [
        {
          "output_type": "stream",
          "text": [
            "Mounted at /content/drive\n"
          ],
          "name": "stdout"
        }
      ]
    },
    {
      "cell_type": "code",
      "metadata": {
        "id": "ld8GhlTvgypH"
      },
      "source": [
        "import json\n",
        "import numpy as np \n",
        "import matplotlib.pyplot as plt\n",
        "import librosa,librosa.display\n",
        "from sklearn.model_selection import train_test_split\n",
        "import tensorflow.keras as keras"
      ],
      "execution_count": 12,
      "outputs": []
    },
    {
      "cell_type": "code",
      "metadata": {
        "id": "0vRHALUJi0L5"
      },
      "source": [
        "DATASET_PATH = \"/content/drive/MyDrive/data.json\""
      ],
      "execution_count": 5,
      "outputs": []
    },
    {
      "cell_type": "code",
      "metadata": {
        "id": "nb8ZBoMHhKje"
      },
      "source": [
        "def load_data(dataset_path):\n",
        "  with open(dataset_path,'r') as fp:\n",
        "    data = json.load(fp)\n",
        "  inputs = np.array(data['mfcc'])\n",
        "  targets = np.array(data['labels'])\n",
        "  \n",
        "  return inputs,targets"
      ],
      "execution_count": 8,
      "outputs": []
    },
    {
      "cell_type": "code",
      "metadata": {
        "id": "1tyiPumFhp0c"
      },
      "source": [
        "\n",
        "inputs,targets = load_data(DATASET_PATH)\n",
        "train_inputs,train_targets,test_inputs,test_targets = train_test_split(inputs,targets,test_size = 0.3)\n",
        "\n",
        "  "
      ],
      "execution_count": 11,
      "outputs": []
    },
    {
      "cell_type": "code",
      "metadata": {
        "id": "yg4gZlxHjOj-"
      },
      "source": [
        "model = keras.Sequential([\n",
        "  keras.layers.Flatten(input_shape=(inputs.shape[1],inputs.shape[2])),\n",
        "  keras.layers.Dense(512,activation='relu'),\n",
        "  keras.layers.Dense(256,activation='relu'),\n",
        "  keras.layers.Dense(64,activation='relu'),\n",
        "  keras.layers.Dense(10,activation='softmax')\n",
        "])\n",
        "\n"
      ],
      "execution_count": 15,
      "outputs": []
    },
    {
      "cell_type": "code",
      "metadata": {
        "id": "leHwv0-13GP1"
      },
      "source": [
        "optimizer = keras.optimizers.Adam(learning_rate=0.0001)"
      ],
      "execution_count": 16,
      "outputs": []
    },
    {
      "cell_type": "code",
      "metadata": {
        "id": "Kwf2SZgc41b9"
      },
      "source": [
        ""
      ],
      "execution_count": null,
      "outputs": []
    }
  ]
}