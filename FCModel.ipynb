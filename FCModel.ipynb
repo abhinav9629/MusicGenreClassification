{
  "nbformat": 4,
  "nbformat_minor": 0,
  "metadata": {
    "colab": {
      "name": "FCModel.ipynb",
      "provenance": [],
      "authorship_tag": "ABX9TyO/+c4pnOFJiLAYiGzO11jA",
      "include_colab_link": true
    },
    "kernelspec": {
      "name": "python3",
      "display_name": "Python 3"
    },
    "language_info": {
      "name": "python"
    }
  },
  "cells": [
    {
      "cell_type": "markdown",
      "metadata": {
        "id": "view-in-github",
        "colab_type": "text"
      },
      "source": [
        "<a href=\"https://colab.research.google.com/github/abhinav9629/MusicGenreClassification/blob/main/FCModel.ipynb\" target=\"_parent\"><img src=\"https://colab.research.google.com/assets/colab-badge.svg\" alt=\"Open In Colab\"/></a>"
      ]
    },
    {
      "cell_type": "code",
      "metadata": {
        "colab": {
          "base_uri": "https://localhost:8080/"
        },
        "id": "EGxnwQzIf2Jl",
        "outputId": "3aa7c7b1-5f7b-4be3-ea54-b12469e5b654"
      },
      "source": [
        "from google.colab import drive\n",
        "drive.mount('/content/drive')"
      ],
      "execution_count": 1,
      "outputs": [
        {
          "output_type": "stream",
          "text": [
            "Mounted at /content/drive\n"
          ],
          "name": "stdout"
        }
      ]
    },
    {
      "cell_type": "code",
      "metadata": {
        "id": "ld8GhlTvgypH"
      },
      "source": [
        "import json\n",
        "import numpy as np \n",
        "import matplotlib.pyplot as plt\n",
        "import librosa,librosa.display\n",
        "from sklearn.model_selection import train_test_split\n",
        "import tensorflow.keras as keras"
      ],
      "execution_count": 60,
      "outputs": []
    },
    {
      "cell_type": "code",
      "metadata": {
        "id": "0vRHALUJi0L5"
      },
      "source": [
        "DATASET_PATH = \"/content/drive/MyDrive/data.json\""
      ],
      "execution_count": 61,
      "outputs": []
    },
    {
      "cell_type": "code",
      "metadata": {
        "id": "nb8ZBoMHhKje"
      },
      "source": [
        "def load_data(dataset_path):\n",
        "  with open(dataset_path,'r') as fp:\n",
        "    data = json.load(fp)\n",
        "  inputs = np.array(data['mfcc'])\n",
        "  targets = np.array(data['labels'])\n",
        "  \n",
        "  return inputs,targets"
      ],
      "execution_count": 62,
      "outputs": []
    },
    {
      "cell_type": "code",
      "metadata": {
        "id": "1tyiPumFhp0c"
      },
      "source": [
        "\n",
        "inputs,targets = load_data(DATASET_PATH)\n",
        "train_inputs,test_inputs,train_targets,test_targets = train_test_split(inputs,targets,test_size = 0.3)\n",
        "\n"
      ],
      "execution_count": 63,
      "outputs": []
    },
    {
      "cell_type": "code",
      "metadata": {
        "colab": {
          "base_uri": "https://localhost:8080/"
        },
        "id": "B6KOa1-bB70Y",
        "outputId": "7f80c714-0673-459a-fb34-496f50c2a5ac"
      },
      "source": [
        "train_inputs.shape\n",
        "\n",
        "\n"
      ],
      "execution_count": 50,
      "outputs": [
        {
          "output_type": "execute_result",
          "data": {
            "text/plain": [
              "(6997, 130, 13)"
            ]
          },
          "metadata": {
            "tags": []
          },
          "execution_count": 50
        }
      ]
    },
    {
      "cell_type": "code",
      "metadata": {
        "id": "yg4gZlxHjOj-"
      },
      "source": [
        "model = keras.Sequential([\n",
        "  keras.layers.Flatten(input_shape = (inputs.shape[1],inputs.shape[2])),\n",
        "  keras.layers.Dense(1024,activation='relu'),\n",
        "  keras.layers.Dropout(0.2),\n",
        "  keras.layers.Dense(512,activation='relu'),\n",
        "  keras.layers.Dropout(0.2),\n",
        "  keras.layers.Dense(256,activation='relu'),\n",
        "  keras.layers.Dropout(0.2),\n",
        "  keras.layers.Dense(64,activation='relu'),\n",
        "  keras.layers.Dense(10,activation='softmax')\n",
        "])\n",
        "\n"
      ],
      "execution_count": 87,
      "outputs": []
    },
    {
      "cell_type": "code",
      "metadata": {
        "id": "leHwv0-13GP1"
      },
      "source": [
        "optimiser = keras.optimizers.Adam(learning_rate=0.0001)"
      ],
      "execution_count": 88,
      "outputs": []
    },
    {
      "cell_type": "code",
      "metadata": {
        "colab": {
          "base_uri": "https://localhost:8080/"
        },
        "id": "Kwf2SZgc41b9",
        "outputId": "f72afef2-9f9b-48bd-fd6a-cb7b926c29f1"
      },
      "source": [
        "model.compile(optimizer=optimiser,loss=\"sparse_categorical_crossentropy\",metrics=[\"accuracy\"])\n",
        "model.summary()"
      ],
      "execution_count": 89,
      "outputs": [
        {
          "output_type": "stream",
          "text": [
            "Model: \"sequential_9\"\n",
            "_________________________________________________________________\n",
            "Layer (type)                 Output Shape              Param #   \n",
            "=================================================================\n",
            "flatten_9 (Flatten)          (None, 1690)              0         \n",
            "_________________________________________________________________\n",
            "dense_40 (Dense)             (None, 1024)              1731584   \n",
            "_________________________________________________________________\n",
            "dropout_12 (Dropout)         (None, 1024)              0         \n",
            "_________________________________________________________________\n",
            "dense_41 (Dense)             (None, 512)               524800    \n",
            "_________________________________________________________________\n",
            "dropout_13 (Dropout)         (None, 512)               0         \n",
            "_________________________________________________________________\n",
            "dense_42 (Dense)             (None, 256)               131328    \n",
            "_________________________________________________________________\n",
            "dropout_14 (Dropout)         (None, 256)               0         \n",
            "_________________________________________________________________\n",
            "dense_43 (Dense)             (None, 64)                16448     \n",
            "_________________________________________________________________\n",
            "dense_44 (Dense)             (None, 10)                650       \n",
            "=================================================================\n",
            "Total params: 2,404,810\n",
            "Trainable params: 2,404,810\n",
            "Non-trainable params: 0\n",
            "_________________________________________________________________\n"
          ],
          "name": "stdout"
        }
      ]
    },
    {
      "cell_type": "code",
      "metadata": {
        "colab": {
          "base_uri": "https://localhost:8080/"
        },
        "id": "rs96a-EV9bVc",
        "outputId": "74ab0b92-ecdc-4dd1-a887-7a9d47f8b249"
      },
      "source": [
        "model.fit(train_inputs,train_targets,validation_data=(test_inputs,test_targets),epochs=100,batch_size=32)"
      ],
      "execution_count": 90,
      "outputs": [
        {
          "output_type": "stream",
          "text": [
            "Epoch 1/100\n",
            "219/219 [==============================] - 7s 29ms/step - loss: 19.9150 - accuracy: 0.1793 - val_loss: 2.0408 - val_accuracy: 0.3031\n",
            "Epoch 2/100\n",
            "219/219 [==============================] - 6s 27ms/step - loss: 3.7676 - accuracy: 0.2425 - val_loss: 1.9986 - val_accuracy: 0.2604\n",
            "Epoch 3/100\n",
            "219/219 [==============================] - 6s 27ms/step - loss: 2.5697 - accuracy: 0.2425 - val_loss: 1.9335 - val_accuracy: 0.3061\n",
            "Epoch 4/100\n",
            "219/219 [==============================] - 6s 27ms/step - loss: 2.2142 - accuracy: 0.2716 - val_loss: 1.9311 - val_accuracy: 0.3141\n",
            "Epoch 5/100\n",
            "219/219 [==============================] - 6s 28ms/step - loss: 2.0857 - accuracy: 0.3040 - val_loss: 1.8734 - val_accuracy: 0.3174\n",
            "Epoch 6/100\n",
            "219/219 [==============================] - 6s 27ms/step - loss: 1.9803 - accuracy: 0.3180 - val_loss: 1.8311 - val_accuracy: 0.3408\n",
            "Epoch 7/100\n",
            "219/219 [==============================] - 6s 27ms/step - loss: 1.9189 - accuracy: 0.3352 - val_loss: 1.7863 - val_accuracy: 0.3428\n",
            "Epoch 8/100\n",
            "219/219 [==============================] - 6s 28ms/step - loss: 1.8751 - accuracy: 0.3520 - val_loss: 1.7381 - val_accuracy: 0.3621\n",
            "Epoch 9/100\n",
            "219/219 [==============================] - 6s 27ms/step - loss: 1.8170 - accuracy: 0.3596 - val_loss: 1.7202 - val_accuracy: 0.3751\n",
            "Epoch 10/100\n",
            "219/219 [==============================] - 6s 27ms/step - loss: 1.7673 - accuracy: 0.3714 - val_loss: 1.6734 - val_accuracy: 0.3911\n",
            "Epoch 11/100\n",
            "219/219 [==============================] - 6s 28ms/step - loss: 1.7287 - accuracy: 0.3907 - val_loss: 1.6177 - val_accuracy: 0.4151\n",
            "Epoch 12/100\n",
            "219/219 [==============================] - 6s 27ms/step - loss: 1.6678 - accuracy: 0.4158 - val_loss: 1.5937 - val_accuracy: 0.4121\n",
            "Epoch 13/100\n",
            "219/219 [==============================] - 6s 28ms/step - loss: 1.6547 - accuracy: 0.4085 - val_loss: 1.5566 - val_accuracy: 0.4381\n",
            "Epoch 14/100\n",
            "219/219 [==============================] - 6s 28ms/step - loss: 1.5767 - accuracy: 0.4387 - val_loss: 1.5196 - val_accuracy: 0.4585\n",
            "Epoch 15/100\n",
            "219/219 [==============================] - 6s 28ms/step - loss: 1.5504 - accuracy: 0.4449 - val_loss: 1.4664 - val_accuracy: 0.4942\n",
            "Epoch 16/100\n",
            "219/219 [==============================] - 6s 27ms/step - loss: 1.5002 - accuracy: 0.4541 - val_loss: 1.4584 - val_accuracy: 0.4718\n",
            "Epoch 17/100\n",
            "219/219 [==============================] - 6s 27ms/step - loss: 1.4501 - accuracy: 0.4664 - val_loss: 1.4167 - val_accuracy: 0.4998\n",
            "Epoch 18/100\n",
            "219/219 [==============================] - 6s 27ms/step - loss: 1.4057 - accuracy: 0.4873 - val_loss: 1.4033 - val_accuracy: 0.5058\n",
            "Epoch 19/100\n",
            "219/219 [==============================] - 6s 28ms/step - loss: 1.3684 - accuracy: 0.5077 - val_loss: 1.4156 - val_accuracy: 0.5095\n",
            "Epoch 20/100\n",
            "219/219 [==============================] - 6s 28ms/step - loss: 1.2961 - accuracy: 0.5368 - val_loss: 1.3676 - val_accuracy: 0.5168\n",
            "Epoch 21/100\n",
            "219/219 [==============================] - 6s 29ms/step - loss: 1.3066 - accuracy: 0.5346 - val_loss: 1.3345 - val_accuracy: 0.5388\n",
            "Epoch 22/100\n",
            "219/219 [==============================] - 6s 28ms/step - loss: 1.2696 - accuracy: 0.5445 - val_loss: 1.3397 - val_accuracy: 0.5352\n",
            "Epoch 23/100\n",
            "219/219 [==============================] - 6s 29ms/step - loss: 1.1861 - accuracy: 0.5576 - val_loss: 1.3213 - val_accuracy: 0.5388\n",
            "Epoch 24/100\n",
            "219/219 [==============================] - 6s 29ms/step - loss: 1.1831 - accuracy: 0.5644 - val_loss: 1.3187 - val_accuracy: 0.5482\n",
            "Epoch 25/100\n",
            "219/219 [==============================] - 6s 27ms/step - loss: 1.1339 - accuracy: 0.5887 - val_loss: 1.2784 - val_accuracy: 0.5612\n",
            "Epoch 26/100\n",
            "219/219 [==============================] - 6s 27ms/step - loss: 1.0864 - accuracy: 0.6091 - val_loss: 1.2907 - val_accuracy: 0.5695\n",
            "Epoch 27/100\n",
            "219/219 [==============================] - 6s 28ms/step - loss: 1.0903 - accuracy: 0.6094 - val_loss: 1.2899 - val_accuracy: 0.5879\n",
            "Epoch 28/100\n",
            "219/219 [==============================] - 6s 28ms/step - loss: 1.0481 - accuracy: 0.6239 - val_loss: 1.2628 - val_accuracy: 0.5825\n",
            "Epoch 29/100\n",
            "219/219 [==============================] - 6s 28ms/step - loss: 0.9964 - accuracy: 0.6386 - val_loss: 1.2684 - val_accuracy: 0.5852\n",
            "Epoch 30/100\n",
            "219/219 [==============================] - 6s 28ms/step - loss: 0.9657 - accuracy: 0.6508 - val_loss: 1.3200 - val_accuracy: 0.5752\n",
            "Epoch 31/100\n",
            "219/219 [==============================] - 6s 28ms/step - loss: 0.9619 - accuracy: 0.6524 - val_loss: 1.2811 - val_accuracy: 0.5932\n",
            "Epoch 32/100\n",
            "219/219 [==============================] - 6s 27ms/step - loss: 0.9158 - accuracy: 0.6684 - val_loss: 1.2656 - val_accuracy: 0.6015\n",
            "Epoch 33/100\n",
            "219/219 [==============================] - 6s 28ms/step - loss: 0.8648 - accuracy: 0.6900 - val_loss: 1.2529 - val_accuracy: 0.6119\n",
            "Epoch 34/100\n",
            "219/219 [==============================] - 6s 28ms/step - loss: 0.8846 - accuracy: 0.6938 - val_loss: 1.3006 - val_accuracy: 0.6089\n",
            "Epoch 35/100\n",
            "219/219 [==============================] - 6s 27ms/step - loss: 0.7970 - accuracy: 0.7139 - val_loss: 1.2830 - val_accuracy: 0.6075\n",
            "Epoch 36/100\n",
            "219/219 [==============================] - 6s 28ms/step - loss: 0.8067 - accuracy: 0.7175 - val_loss: 1.3263 - val_accuracy: 0.5975\n",
            "Epoch 37/100\n",
            "219/219 [==============================] - 6s 28ms/step - loss: 0.7631 - accuracy: 0.7271 - val_loss: 1.3076 - val_accuracy: 0.6045\n",
            "Epoch 38/100\n",
            "219/219 [==============================] - 6s 28ms/step - loss: 0.7668 - accuracy: 0.7232 - val_loss: 1.3474 - val_accuracy: 0.6109\n",
            "Epoch 39/100\n",
            "219/219 [==============================] - 6s 28ms/step - loss: 0.6923 - accuracy: 0.7444 - val_loss: 1.2905 - val_accuracy: 0.6179\n",
            "Epoch 40/100\n",
            "219/219 [==============================] - 6s 28ms/step - loss: 0.6845 - accuracy: 0.7480 - val_loss: 1.3028 - val_accuracy: 0.6219\n",
            "Epoch 41/100\n",
            "219/219 [==============================] - 6s 29ms/step - loss: 0.6539 - accuracy: 0.7666 - val_loss: 1.3373 - val_accuracy: 0.6122\n",
            "Epoch 42/100\n",
            "219/219 [==============================] - 6s 28ms/step - loss: 0.6336 - accuracy: 0.7797 - val_loss: 1.3604 - val_accuracy: 0.6195\n",
            "Epoch 43/100\n",
            "219/219 [==============================] - 7s 30ms/step - loss: 0.6377 - accuracy: 0.7768 - val_loss: 1.3492 - val_accuracy: 0.6282\n",
            "Epoch 44/100\n",
            "219/219 [==============================] - 6s 29ms/step - loss: 0.6000 - accuracy: 0.7896 - val_loss: 1.4050 - val_accuracy: 0.6195\n",
            "Epoch 45/100\n",
            "219/219 [==============================] - 6s 29ms/step - loss: 0.5473 - accuracy: 0.7976 - val_loss: 1.3687 - val_accuracy: 0.6302\n",
            "Epoch 46/100\n",
            "219/219 [==============================] - 7s 30ms/step - loss: 0.5530 - accuracy: 0.7977 - val_loss: 1.3863 - val_accuracy: 0.6332\n",
            "Epoch 47/100\n",
            "219/219 [==============================] - 7s 30ms/step - loss: 0.5215 - accuracy: 0.8166 - val_loss: 1.4053 - val_accuracy: 0.6209\n",
            "Epoch 48/100\n",
            "219/219 [==============================] - 6s 29ms/step - loss: 0.5266 - accuracy: 0.8121 - val_loss: 1.4086 - val_accuracy: 0.6265\n",
            "Epoch 49/100\n",
            "219/219 [==============================] - 7s 30ms/step - loss: 0.5034 - accuracy: 0.8192 - val_loss: 1.3765 - val_accuracy: 0.6409\n",
            "Epoch 50/100\n",
            "219/219 [==============================] - 6s 29ms/step - loss: 0.4535 - accuracy: 0.8382 - val_loss: 1.4919 - val_accuracy: 0.6379\n",
            "Epoch 51/100\n",
            "219/219 [==============================] - 6s 29ms/step - loss: 0.4892 - accuracy: 0.8248 - val_loss: 1.4764 - val_accuracy: 0.6412\n",
            "Epoch 52/100\n",
            "219/219 [==============================] - 6s 29ms/step - loss: 0.4416 - accuracy: 0.8474 - val_loss: 1.4710 - val_accuracy: 0.6422\n",
            "Epoch 53/100\n",
            "219/219 [==============================] - 6s 28ms/step - loss: 0.4425 - accuracy: 0.8397 - val_loss: 1.4759 - val_accuracy: 0.6375\n",
            "Epoch 54/100\n",
            "219/219 [==============================] - 6s 27ms/step - loss: 0.4207 - accuracy: 0.8511 - val_loss: 1.4713 - val_accuracy: 0.6449\n",
            "Epoch 55/100\n",
            "219/219 [==============================] - 6s 27ms/step - loss: 0.3816 - accuracy: 0.8624 - val_loss: 1.4885 - val_accuracy: 0.6566\n",
            "Epoch 56/100\n",
            "219/219 [==============================] - 6s 28ms/step - loss: 0.4258 - accuracy: 0.8477 - val_loss: 1.4577 - val_accuracy: 0.6485\n",
            "Epoch 57/100\n",
            "219/219 [==============================] - 6s 29ms/step - loss: 0.3597 - accuracy: 0.8750 - val_loss: 1.5102 - val_accuracy: 0.6439\n",
            "Epoch 58/100\n",
            "219/219 [==============================] - 6s 29ms/step - loss: 0.3782 - accuracy: 0.8680 - val_loss: 1.5545 - val_accuracy: 0.6352\n",
            "Epoch 59/100\n",
            "219/219 [==============================] - 6s 29ms/step - loss: 0.3501 - accuracy: 0.8815 - val_loss: 1.4528 - val_accuracy: 0.6549\n",
            "Epoch 60/100\n",
            "219/219 [==============================] - 7s 31ms/step - loss: 0.3226 - accuracy: 0.8901 - val_loss: 1.5466 - val_accuracy: 0.6375\n",
            "Epoch 61/100\n",
            "219/219 [==============================] - 6s 29ms/step - loss: 0.3277 - accuracy: 0.8862 - val_loss: 1.6456 - val_accuracy: 0.6379\n",
            "Epoch 62/100\n",
            "219/219 [==============================] - 6s 29ms/step - loss: 0.3106 - accuracy: 0.8953 - val_loss: 1.6342 - val_accuracy: 0.6586\n",
            "Epoch 63/100\n",
            "219/219 [==============================] - 6s 29ms/step - loss: 0.3225 - accuracy: 0.8849 - val_loss: 1.5928 - val_accuracy: 0.6559\n",
            "Epoch 64/100\n",
            "219/219 [==============================] - 6s 28ms/step - loss: 0.3060 - accuracy: 0.8907 - val_loss: 1.5950 - val_accuracy: 0.6502\n",
            "Epoch 65/100\n",
            "219/219 [==============================] - 6s 28ms/step - loss: 0.2707 - accuracy: 0.9076 - val_loss: 1.6755 - val_accuracy: 0.6526\n",
            "Epoch 66/100\n",
            "219/219 [==============================] - 6s 29ms/step - loss: 0.2667 - accuracy: 0.9076 - val_loss: 1.6012 - val_accuracy: 0.6539\n",
            "Epoch 67/100\n",
            "219/219 [==============================] - 6s 28ms/step - loss: 0.2713 - accuracy: 0.9008 - val_loss: 1.7308 - val_accuracy: 0.6582\n",
            "Epoch 68/100\n",
            "219/219 [==============================] - 6s 29ms/step - loss: 0.2921 - accuracy: 0.9008 - val_loss: 1.6665 - val_accuracy: 0.6502\n",
            "Epoch 69/100\n",
            "219/219 [==============================] - 6s 28ms/step - loss: 0.2539 - accuracy: 0.9103 - val_loss: 1.6889 - val_accuracy: 0.6455\n",
            "Epoch 70/100\n",
            "219/219 [==============================] - 6s 29ms/step - loss: 0.2858 - accuracy: 0.8982 - val_loss: 1.6715 - val_accuracy: 0.6489\n",
            "Epoch 71/100\n",
            "219/219 [==============================] - 7s 31ms/step - loss: 0.2412 - accuracy: 0.9214 - val_loss: 1.7590 - val_accuracy: 0.6499\n",
            "Epoch 72/100\n",
            "219/219 [==============================] - 7s 30ms/step - loss: 0.2416 - accuracy: 0.9127 - val_loss: 1.7712 - val_accuracy: 0.6489\n",
            "Epoch 73/100\n",
            "219/219 [==============================] - 7s 30ms/step - loss: 0.2291 - accuracy: 0.9168 - val_loss: 1.7203 - val_accuracy: 0.6572\n",
            "Epoch 74/100\n",
            "219/219 [==============================] - 7s 30ms/step - loss: 0.2370 - accuracy: 0.9177 - val_loss: 1.6576 - val_accuracy: 0.6642\n",
            "Epoch 75/100\n",
            "219/219 [==============================] - 6s 29ms/step - loss: 0.2134 - accuracy: 0.9231 - val_loss: 1.7454 - val_accuracy: 0.6592\n",
            "Epoch 76/100\n",
            "219/219 [==============================] - 6s 29ms/step - loss: 0.2315 - accuracy: 0.9187 - val_loss: 1.7586 - val_accuracy: 0.6516\n",
            "Epoch 77/100\n",
            "219/219 [==============================] - 6s 28ms/step - loss: 0.2209 - accuracy: 0.9218 - val_loss: 1.7006 - val_accuracy: 0.6559\n",
            "Epoch 78/100\n",
            "219/219 [==============================] - 6s 29ms/step - loss: 0.2116 - accuracy: 0.9269 - val_loss: 1.7694 - val_accuracy: 0.6676\n",
            "Epoch 79/100\n",
            "219/219 [==============================] - 6s 29ms/step - loss: 0.2243 - accuracy: 0.9248 - val_loss: 1.7101 - val_accuracy: 0.6562\n",
            "Epoch 80/100\n",
            "219/219 [==============================] - 6s 28ms/step - loss: 0.2032 - accuracy: 0.9236 - val_loss: 1.7350 - val_accuracy: 0.6589\n",
            "Epoch 81/100\n",
            "219/219 [==============================] - 6s 28ms/step - loss: 0.1796 - accuracy: 0.9379 - val_loss: 1.8828 - val_accuracy: 0.6485\n",
            "Epoch 82/100\n",
            "219/219 [==============================] - 6s 29ms/step - loss: 0.1858 - accuracy: 0.9382 - val_loss: 1.8185 - val_accuracy: 0.6602\n",
            "Epoch 83/100\n",
            "219/219 [==============================] - 6s 29ms/step - loss: 0.1770 - accuracy: 0.9414 - val_loss: 1.8106 - val_accuracy: 0.6606\n",
            "Epoch 84/100\n",
            "219/219 [==============================] - 6s 28ms/step - loss: 0.1815 - accuracy: 0.9382 - val_loss: 1.8234 - val_accuracy: 0.6609\n",
            "Epoch 85/100\n",
            "219/219 [==============================] - 6s 29ms/step - loss: 0.1695 - accuracy: 0.9381 - val_loss: 1.8101 - val_accuracy: 0.6626\n",
            "Epoch 86/100\n",
            "219/219 [==============================] - 6s 29ms/step - loss: 0.1807 - accuracy: 0.9355 - val_loss: 1.9074 - val_accuracy: 0.6485\n",
            "Epoch 87/100\n",
            "219/219 [==============================] - 7s 30ms/step - loss: 0.1764 - accuracy: 0.9423 - val_loss: 1.9444 - val_accuracy: 0.6442\n",
            "Epoch 88/100\n",
            "219/219 [==============================] - 7s 30ms/step - loss: 0.1459 - accuracy: 0.9516 - val_loss: 1.8467 - val_accuracy: 0.6572\n",
            "Epoch 89/100\n",
            "219/219 [==============================] - 7s 30ms/step - loss: 0.1606 - accuracy: 0.9440 - val_loss: 1.7925 - val_accuracy: 0.6609\n",
            "Epoch 90/100\n",
            "219/219 [==============================] - 6s 29ms/step - loss: 0.1463 - accuracy: 0.9528 - val_loss: 1.8119 - val_accuracy: 0.6606\n",
            "Epoch 91/100\n",
            "219/219 [==============================] - 7s 30ms/step - loss: 0.1643 - accuracy: 0.9474 - val_loss: 1.8497 - val_accuracy: 0.6682\n",
            "Epoch 92/100\n",
            "219/219 [==============================] - 7s 31ms/step - loss: 0.1704 - accuracy: 0.9391 - val_loss: 1.7814 - val_accuracy: 0.6649\n",
            "Epoch 93/100\n",
            "219/219 [==============================] - 7s 32ms/step - loss: 0.1374 - accuracy: 0.9545 - val_loss: 1.9196 - val_accuracy: 0.6642\n",
            "Epoch 94/100\n",
            "219/219 [==============================] - 7s 31ms/step - loss: 0.1717 - accuracy: 0.9461 - val_loss: 1.8805 - val_accuracy: 0.6542\n",
            "Epoch 95/100\n",
            "219/219 [==============================] - 7s 31ms/step - loss: 0.1365 - accuracy: 0.9542 - val_loss: 1.9467 - val_accuracy: 0.6502\n",
            "Epoch 96/100\n",
            "219/219 [==============================] - 7s 30ms/step - loss: 0.1372 - accuracy: 0.9519 - val_loss: 1.9107 - val_accuracy: 0.6632\n",
            "Epoch 97/100\n",
            "219/219 [==============================] - 7s 33ms/step - loss: 0.1778 - accuracy: 0.9414 - val_loss: 1.8399 - val_accuracy: 0.6739\n",
            "Epoch 98/100\n",
            "219/219 [==============================] - 7s 32ms/step - loss: 0.1509 - accuracy: 0.9436 - val_loss: 1.8468 - val_accuracy: 0.6729\n",
            "Epoch 99/100\n",
            "219/219 [==============================] - 7s 30ms/step - loss: 0.1570 - accuracy: 0.9456 - val_loss: 1.9090 - val_accuracy: 0.6616\n",
            "Epoch 100/100\n",
            "219/219 [==============================] - 7s 30ms/step - loss: 0.1603 - accuracy: 0.9447 - val_loss: 1.8544 - val_accuracy: 0.6742\n"
          ],
          "name": "stdout"
        },
        {
          "output_type": "execute_result",
          "data": {
            "text/plain": [
              "<tensorflow.python.keras.callbacks.History at 0x7f519bca4990>"
            ]
          },
          "metadata": {
            "tags": []
          },
          "execution_count": 90
        }
      ]
    },
    {
      "cell_type": "code",
      "metadata": {
        "colab": {
          "base_uri": "https://localhost:8080/"
        },
        "id": "7x6jAFk6_nXP",
        "outputId": "05f2bb6a-7a07-4b34-9d0e-51dd3a16c4f5"
      },
      "source": [
        "model.evaluate(test_inputs,test_targets)"
      ],
      "execution_count": 91,
      "outputs": [
        {
          "output_type": "stream",
          "text": [
            "94/94 [==============================] - 1s 6ms/step - loss: 1.8544 - accuracy: 0.6742\n"
          ],
          "name": "stdout"
        },
        {
          "output_type": "execute_result",
          "data": {
            "text/plain": [
              "[1.8544273376464844, 0.6742247343063354]"
            ]
          },
          "metadata": {
            "tags": []
          },
          "execution_count": 91
        }
      ]
    },
    {
      "cell_type": "code",
      "metadata": {
        "colab": {
          "base_uri": "https://localhost:8080/"
        },
        "id": "4ts7Ilommy6j",
        "outputId": "5385327e-e29b-439b-96ce-ff259befe496"
      },
      "source": [
        "model.save('/content/drive/MyDrive/Music Genre Classification')"
      ],
      "execution_count": 92,
      "outputs": [
        {
          "output_type": "stream",
          "text": [
            "INFO:tensorflow:Assets written to: /content/drive/MyDrive/Music Genre Classification/assets\n"
          ],
          "name": "stdout"
        }
      ]
    }
  ]
}