{
  "nbformat": 4,
  "nbformat_minor": 0,
  "metadata": {
    "colab": {
      "name": "CNN.ipynb",
      "provenance": [],
      "authorship_tag": "ABX9TyN3P10ODgmaaf3lx42Qv3sG",
      "include_colab_link": true
    },
    "kernelspec": {
      "name": "python3",
      "display_name": "Python 3"
    },
    "language_info": {
      "name": "python"
    }
  },
  "cells": [
    {
      "cell_type": "markdown",
      "metadata": {
        "id": "view-in-github",
        "colab_type": "text"
      },
      "source": [
        "<a href=\"https://colab.research.google.com/github/abhinav9629/MusicGenreClassification/blob/main/CNN.ipynb\" target=\"_parent\"><img src=\"https://colab.research.google.com/assets/colab-badge.svg\" alt=\"Open In Colab\"/></a>"
      ]
    },
    {
      "cell_type": "code",
      "metadata": {
        "colab": {
          "base_uri": "https://localhost:8080/"
        },
        "id": "NZx1JcyDAv3r",
        "outputId": "3843343c-3cac-46e5-bf7b-2a5a1f002789"
      },
      "source": [
        "from google.colab import drive\n",
        "drive.mount('/content/drive')"
      ],
      "execution_count": 40,
      "outputs": [
        {
          "output_type": "stream",
          "text": [
            "Drive already mounted at /content/drive; to attempt to forcibly remount, call drive.mount(\"/content/drive\", force_remount=True).\n"
          ],
          "name": "stdout"
        }
      ]
    },
    {
      "cell_type": "code",
      "metadata": {
        "id": "WIHzT8OttQb6"
      },
      "source": [
        "import json\n",
        "import numpy as np\n",
        "import matplotlib.pyplot as plt\n",
        "import tensorflow.keras as keras\n",
        "from sklearn.model_selection import train_test_split"
      ],
      "execution_count": 41,
      "outputs": []
    },
    {
      "cell_type": "code",
      "metadata": {
        "id": "w3sgCWNnBOMw"
      },
      "source": [
        "DATASET_PATH = '/content/drive/MyDrive/data.json'"
      ],
      "execution_count": 42,
      "outputs": []
    },
    {
      "cell_type": "code",
      "metadata": {
        "id": "QczM1wz-BUT0"
      },
      "source": [
        "def load_data(DATASET_PATH):\n",
        "  with open(DATASET_PATH,'r') as fp:\n",
        "    data = json.load(fp)\n",
        "    inputs = np.array(data['mfcc'])\n",
        "    targets = np.array(data['labels'])\n",
        "    return inputs,targets"
      ],
      "execution_count": 43,
      "outputs": []
    },
    {
      "cell_type": "code",
      "metadata": {
        "id": "gMZxjhlRBxB4"
      },
      "source": [
        "def dataset(test_size,val_size):\n",
        "  inputs,targets = load_data(DATASET_PATH=DATASET_PATH)\n",
        "  train_inputs,test_inputs,train_targets,test_targets = train_test_split(inputs,targets,test_size=test_size)\n",
        "  train_inputs,val_inputs,train_targets,val_targets = train_test_split(train_inputs,train_targets,test_size=val_size)\n",
        "  \n",
        "  train_inputs = train_inputs[...,np.newaxis]\n",
        "  val_inputs = val_inputs[...,np.newaxis]\n",
        "  test_inputs = test_inputs[...,np.newaxis]\n",
        "  return train_inputs,val_inputs,test_inputs,train_targets,val_targets,test_targets"
      ],
      "execution_count": 44,
      "outputs": []
    },
    {
      "cell_type": "code",
      "metadata": {
        "id": "XpxVMvJVCIZe"
      },
      "source": [
        "train_inputs,val_inputs,test_inputs,train_targets,val_targets,test_targets = dataset(0.25,0.2)"
      ],
      "execution_count": 45,
      "outputs": []
    },
    {
      "cell_type": "code",
      "metadata": {
        "id": "mXgSyhLuDDra"
      },
      "source": [
        "#MODEL ARCHITECTURE"
      ],
      "execution_count": 46,
      "outputs": []
    },
    {
      "cell_type": "code",
      "metadata": {
        "id": "GTSj-umSDkOW"
      },
      "source": [
        "model = keras.Sequential([\n",
        "  keras.layers.Conv2D(32,(3,3),activation='relu',input_shape = (train_inputs.shape[1],train_inputs.shape[2],train_inputs.shape[3])),\n",
        "  keras.layers.MaxPool2D((3,3),strides=(2,2),padding='same'),\n",
        "  keras.layers.BatchNormalization(),\n",
        "\n",
        "  keras.layers.Conv2D(32,(3,3),activation='relu',input_shape = (train_inputs.shape[1],train_inputs.shape[2],train_inputs.shape[3])),\n",
        "  keras.layers.MaxPool2D((3,3),strides=(2,2),padding='same'),\n",
        "  keras.layers.BatchNormalization(),\n",
        "\n",
        "  keras.layers.Conv2D(32,(2,2),activation='relu',input_shape = (train_inputs.shape[1],train_inputs.shape[2],train_inputs.shape[3])),\n",
        "  keras.layers.MaxPool2D((3,3),strides=(2,2),padding='same'),\n",
        "  keras.layers.BatchNormalization(),\n",
        "\n",
        "  keras.layers.Flatten(),\n",
        "  keras.layers.Dense(64,activation='relu'),\n",
        "  keras.layers.Dropout(0.3),\n",
        "\n",
        "  keras.layers.Dense(10,activation='softmax')\n",
        "])"
      ],
      "execution_count": 47,
      "outputs": []
    },
    {
      "cell_type": "code",
      "metadata": {
        "id": "5AutJTX2UzBK"
      },
      "source": [
        "optimiser = keras.optimizers.Adam(learning_rate=0.001)\n"
      ],
      "execution_count": 48,
      "outputs": []
    },
    {
      "cell_type": "code",
      "metadata": {
        "id": "c7dSuoYlU696"
      },
      "source": [
        "model.compile(optimizer=optimiser,loss='sparse_categorical_crossentropy',metrics=['accuracy'])"
      ],
      "execution_count": 49,
      "outputs": []
    },
    {
      "cell_type": "code",
      "metadata": {
        "colab": {
          "base_uri": "https://localhost:8080/"
        },
        "id": "YlFWY3ScZVei",
        "outputId": "559378cd-a2ba-4e4e-fc35-5f34b85481b1"
      },
      "source": [
        "history = model.fit(train_inputs,train_targets,validation_data=(val_inputs,val_targets),epochs = 100)"
      ],
      "execution_count": 50,
      "outputs": [
        {
          "output_type": "stream",
          "text": [
            "Epoch 1/100\n",
            "188/188 [==============================] - 13s 68ms/step - loss: 1.7652 - accuracy: 0.3935 - val_loss: 1.7006 - val_accuracy: 0.4060\n",
            "Epoch 2/100\n",
            "188/188 [==============================] - 13s 67ms/step - loss: 1.2745 - accuracy: 0.5379 - val_loss: 1.2906 - val_accuracy: 0.5253\n",
            "Epoch 3/100\n",
            "188/188 [==============================] - 13s 68ms/step - loss: 1.1084 - accuracy: 0.6058 - val_loss: 1.0644 - val_accuracy: 0.6180\n",
            "Epoch 4/100\n",
            "188/188 [==============================] - 13s 68ms/step - loss: 0.9682 - accuracy: 0.6608 - val_loss: 1.0198 - val_accuracy: 0.6707\n",
            "Epoch 5/100\n",
            "188/188 [==============================] - 13s 67ms/step - loss: 0.9074 - accuracy: 0.6795 - val_loss: 0.8801 - val_accuracy: 0.6947\n",
            "Epoch 6/100\n",
            "188/188 [==============================] - 13s 67ms/step - loss: 0.8200 - accuracy: 0.7177 - val_loss: 0.9202 - val_accuracy: 0.6867\n",
            "Epoch 7/100\n",
            "188/188 [==============================] - 13s 68ms/step - loss: 0.7630 - accuracy: 0.7312 - val_loss: 1.0161 - val_accuracy: 0.6520\n",
            "Epoch 8/100\n",
            "188/188 [==============================] - 13s 67ms/step - loss: 0.6842 - accuracy: 0.7555 - val_loss: 0.8554 - val_accuracy: 0.7100\n",
            "Epoch 9/100\n",
            "188/188 [==============================] - 13s 68ms/step - loss: 0.6514 - accuracy: 0.7689 - val_loss: 0.8129 - val_accuracy: 0.7300\n",
            "Epoch 10/100\n",
            "188/188 [==============================] - 12s 66ms/step - loss: 0.6171 - accuracy: 0.7854 - val_loss: 0.9543 - val_accuracy: 0.6793\n",
            "Epoch 11/100\n",
            "188/188 [==============================] - 12s 66ms/step - loss: 0.5746 - accuracy: 0.7989 - val_loss: 0.9426 - val_accuracy: 0.6933\n",
            "Epoch 12/100\n",
            "188/188 [==============================] - 13s 67ms/step - loss: 0.5437 - accuracy: 0.8109 - val_loss: 0.7994 - val_accuracy: 0.7467\n",
            "Epoch 13/100\n",
            "188/188 [==============================] - 13s 67ms/step - loss: 0.5232 - accuracy: 0.8157 - val_loss: 1.0088 - val_accuracy: 0.6873\n",
            "Epoch 14/100\n",
            "188/188 [==============================] - 13s 67ms/step - loss: 0.4973 - accuracy: 0.8201 - val_loss: 0.7438 - val_accuracy: 0.7507\n",
            "Epoch 15/100\n",
            "188/188 [==============================] - 13s 67ms/step - loss: 0.4722 - accuracy: 0.8309 - val_loss: 0.9309 - val_accuracy: 0.6960\n",
            "Epoch 16/100\n",
            "188/188 [==============================] - 13s 67ms/step - loss: 0.4293 - accuracy: 0.8503 - val_loss: 0.8015 - val_accuracy: 0.7447\n",
            "Epoch 17/100\n",
            "188/188 [==============================] - 13s 67ms/step - loss: 0.4233 - accuracy: 0.8504 - val_loss: 0.8450 - val_accuracy: 0.7380\n",
            "Epoch 18/100\n",
            "188/188 [==============================] - 13s 67ms/step - loss: 0.3997 - accuracy: 0.8564 - val_loss: 0.7540 - val_accuracy: 0.7613\n",
            "Epoch 19/100\n",
            "188/188 [==============================] - 13s 67ms/step - loss: 0.3839 - accuracy: 0.8648 - val_loss: 0.8060 - val_accuracy: 0.7593\n",
            "Epoch 20/100\n",
            "188/188 [==============================] - 13s 68ms/step - loss: 0.3722 - accuracy: 0.8646 - val_loss: 0.7505 - val_accuracy: 0.7707\n",
            "Epoch 21/100\n",
            "188/188 [==============================] - 13s 67ms/step - loss: 0.3355 - accuracy: 0.8814 - val_loss: 0.9748 - val_accuracy: 0.7320\n",
            "Epoch 22/100\n",
            "188/188 [==============================] - 13s 67ms/step - loss: 0.3422 - accuracy: 0.8769 - val_loss: 0.9649 - val_accuracy: 0.7380\n",
            "Epoch 23/100\n",
            "188/188 [==============================] - 13s 67ms/step - loss: 0.3083 - accuracy: 0.8933 - val_loss: 0.8717 - val_accuracy: 0.7433\n",
            "Epoch 24/100\n",
            "188/188 [==============================] - 13s 67ms/step - loss: 0.2833 - accuracy: 0.9018 - val_loss: 0.8951 - val_accuracy: 0.7533\n",
            "Epoch 25/100\n",
            "188/188 [==============================] - 13s 68ms/step - loss: 0.3042 - accuracy: 0.8909 - val_loss: 0.8935 - val_accuracy: 0.7473\n",
            "Epoch 26/100\n",
            "188/188 [==============================] - 13s 68ms/step - loss: 0.2894 - accuracy: 0.8971 - val_loss: 0.8396 - val_accuracy: 0.7593\n",
            "Epoch 27/100\n",
            "188/188 [==============================] - 13s 69ms/step - loss: 0.2954 - accuracy: 0.8961 - val_loss: 0.8799 - val_accuracy: 0.7667\n",
            "Epoch 28/100\n",
            "188/188 [==============================] - 13s 68ms/step - loss: 0.2621 - accuracy: 0.9065 - val_loss: 0.8963 - val_accuracy: 0.7587\n",
            "Epoch 29/100\n",
            "188/188 [==============================] - 13s 69ms/step - loss: 0.2605 - accuracy: 0.9075 - val_loss: 1.0290 - val_accuracy: 0.7347\n",
            "Epoch 30/100\n",
            "188/188 [==============================] - 13s 69ms/step - loss: 0.2543 - accuracy: 0.9131 - val_loss: 1.0449 - val_accuracy: 0.7307\n",
            "Epoch 31/100\n",
            "188/188 [==============================] - 13s 68ms/step - loss: 0.2459 - accuracy: 0.9146 - val_loss: 1.0318 - val_accuracy: 0.7387\n",
            "Epoch 32/100\n",
            "188/188 [==============================] - 13s 68ms/step - loss: 0.2385 - accuracy: 0.9190 - val_loss: 0.9171 - val_accuracy: 0.7640\n",
            "Epoch 33/100\n",
            "188/188 [==============================] - 13s 68ms/step - loss: 0.2409 - accuracy: 0.9160 - val_loss: 0.8341 - val_accuracy: 0.7827\n",
            "Epoch 34/100\n",
            "188/188 [==============================] - 13s 68ms/step - loss: 0.2267 - accuracy: 0.9198 - val_loss: 0.9383 - val_accuracy: 0.7480\n",
            "Epoch 35/100\n",
            "188/188 [==============================] - 13s 69ms/step - loss: 0.2096 - accuracy: 0.9240 - val_loss: 1.2105 - val_accuracy: 0.7127\n",
            "Epoch 36/100\n",
            "188/188 [==============================] - 13s 68ms/step - loss: 0.2133 - accuracy: 0.9263 - val_loss: 1.2194 - val_accuracy: 0.7247\n",
            "Epoch 37/100\n",
            "188/188 [==============================] - 13s 69ms/step - loss: 0.2089 - accuracy: 0.9265 - val_loss: 1.0028 - val_accuracy: 0.7493\n",
            "Epoch 38/100\n",
            "188/188 [==============================] - 13s 68ms/step - loss: 0.2088 - accuracy: 0.9261 - val_loss: 1.0933 - val_accuracy: 0.7500\n",
            "Epoch 39/100\n",
            "188/188 [==============================] - 13s 68ms/step - loss: 0.2033 - accuracy: 0.9268 - val_loss: 1.2715 - val_accuracy: 0.7133\n",
            "Epoch 40/100\n",
            "188/188 [==============================] - 12s 66ms/step - loss: 0.2343 - accuracy: 0.9141 - val_loss: 1.0621 - val_accuracy: 0.7320\n",
            "Epoch 41/100\n",
            "188/188 [==============================] - 13s 67ms/step - loss: 0.1816 - accuracy: 0.9351 - val_loss: 1.1611 - val_accuracy: 0.7353\n",
            "Epoch 42/100\n",
            "188/188 [==============================] - 13s 69ms/step - loss: 0.1767 - accuracy: 0.9373 - val_loss: 1.0083 - val_accuracy: 0.7647\n",
            "Epoch 43/100\n",
            "188/188 [==============================] - 13s 68ms/step - loss: 0.1797 - accuracy: 0.9375 - val_loss: 1.0767 - val_accuracy: 0.7373\n",
            "Epoch 44/100\n",
            "188/188 [==============================] - 13s 69ms/step - loss: 0.1585 - accuracy: 0.9456 - val_loss: 1.1327 - val_accuracy: 0.7587\n",
            "Epoch 45/100\n",
            "188/188 [==============================] - 13s 69ms/step - loss: 0.1782 - accuracy: 0.9358 - val_loss: 1.0853 - val_accuracy: 0.7593\n",
            "Epoch 46/100\n",
            "188/188 [==============================] - 13s 69ms/step - loss: 0.1752 - accuracy: 0.9365 - val_loss: 1.0758 - val_accuracy: 0.7527\n",
            "Epoch 47/100\n",
            "188/188 [==============================] - 13s 69ms/step - loss: 0.1709 - accuracy: 0.9400 - val_loss: 1.0111 - val_accuracy: 0.7660\n",
            "Epoch 48/100\n",
            "188/188 [==============================] - 13s 69ms/step - loss: 0.1741 - accuracy: 0.9375 - val_loss: 1.3029 - val_accuracy: 0.7307\n",
            "Epoch 49/100\n",
            "188/188 [==============================] - 13s 69ms/step - loss: 0.1671 - accuracy: 0.9421 - val_loss: 1.0514 - val_accuracy: 0.7647\n",
            "Epoch 50/100\n",
            "188/188 [==============================] - 13s 68ms/step - loss: 0.1570 - accuracy: 0.9466 - val_loss: 1.1137 - val_accuracy: 0.7487\n",
            "Epoch 51/100\n",
            "188/188 [==============================] - 13s 69ms/step - loss: 0.1750 - accuracy: 0.9396 - val_loss: 1.1723 - val_accuracy: 0.7493\n",
            "Epoch 52/100\n",
            "188/188 [==============================] - 13s 69ms/step - loss: 0.1731 - accuracy: 0.9373 - val_loss: 1.1597 - val_accuracy: 0.7280\n",
            "Epoch 53/100\n",
            "188/188 [==============================] - 13s 69ms/step - loss: 0.1572 - accuracy: 0.9430 - val_loss: 1.1401 - val_accuracy: 0.7367\n",
            "Epoch 54/100\n",
            "188/188 [==============================] - 13s 69ms/step - loss: 0.1404 - accuracy: 0.9501 - val_loss: 1.3274 - val_accuracy: 0.7387\n",
            "Epoch 55/100\n",
            "188/188 [==============================] - 13s 69ms/step - loss: 0.1603 - accuracy: 0.9395 - val_loss: 1.2092 - val_accuracy: 0.7413\n",
            "Epoch 56/100\n",
            "188/188 [==============================] - 13s 69ms/step - loss: 0.1347 - accuracy: 0.9530 - val_loss: 1.2092 - val_accuracy: 0.7453\n",
            "Epoch 57/100\n",
            "188/188 [==============================] - 13s 69ms/step - loss: 0.1600 - accuracy: 0.9435 - val_loss: 1.2559 - val_accuracy: 0.7327\n",
            "Epoch 58/100\n",
            "188/188 [==============================] - 13s 68ms/step - loss: 0.1509 - accuracy: 0.9471 - val_loss: 1.2476 - val_accuracy: 0.7427\n",
            "Epoch 59/100\n",
            "188/188 [==============================] - 13s 67ms/step - loss: 0.1197 - accuracy: 0.9610 - val_loss: 1.2236 - val_accuracy: 0.7493\n",
            "Epoch 60/100\n",
            "188/188 [==============================] - 13s 68ms/step - loss: 0.1468 - accuracy: 0.9463 - val_loss: 1.2390 - val_accuracy: 0.7480\n",
            "Epoch 61/100\n",
            "188/188 [==============================] - 13s 68ms/step - loss: 0.1452 - accuracy: 0.9511 - val_loss: 1.2114 - val_accuracy: 0.7387\n",
            "Epoch 62/100\n",
            "188/188 [==============================] - 13s 68ms/step - loss: 0.1397 - accuracy: 0.9523 - val_loss: 1.0749 - val_accuracy: 0.7627\n",
            "Epoch 63/100\n",
            "188/188 [==============================] - 13s 68ms/step - loss: 0.1279 - accuracy: 0.9566 - val_loss: 1.3154 - val_accuracy: 0.7413\n",
            "Epoch 64/100\n",
            "188/188 [==============================] - 13s 67ms/step - loss: 0.1239 - accuracy: 0.9576 - val_loss: 1.2188 - val_accuracy: 0.7600\n",
            "Epoch 65/100\n",
            "188/188 [==============================] - 13s 68ms/step - loss: 0.1269 - accuracy: 0.9538 - val_loss: 1.2025 - val_accuracy: 0.7600\n",
            "Epoch 66/100\n",
            "188/188 [==============================] - 13s 68ms/step - loss: 0.1295 - accuracy: 0.9515 - val_loss: 1.4513 - val_accuracy: 0.7340\n",
            "Epoch 67/100\n",
            "188/188 [==============================] - 13s 67ms/step - loss: 0.1280 - accuracy: 0.9563 - val_loss: 1.2992 - val_accuracy: 0.7607\n",
            "Epoch 68/100\n",
            "188/188 [==============================] - 13s 68ms/step - loss: 0.1525 - accuracy: 0.9503 - val_loss: 1.2023 - val_accuracy: 0.7573\n",
            "Epoch 69/100\n",
            "188/188 [==============================] - 13s 69ms/step - loss: 0.1447 - accuracy: 0.9485 - val_loss: 1.4779 - val_accuracy: 0.7200\n",
            "Epoch 70/100\n",
            "188/188 [==============================] - 13s 69ms/step - loss: 0.1148 - accuracy: 0.9588 - val_loss: 1.4040 - val_accuracy: 0.7440\n",
            "Epoch 71/100\n",
            "188/188 [==============================] - 13s 70ms/step - loss: 0.1538 - accuracy: 0.9458 - val_loss: 1.2263 - val_accuracy: 0.7653\n",
            "Epoch 72/100\n",
            "188/188 [==============================] - 13s 69ms/step - loss: 0.1379 - accuracy: 0.9525 - val_loss: 1.2733 - val_accuracy: 0.7320\n",
            "Epoch 73/100\n",
            "188/188 [==============================] - 13s 70ms/step - loss: 0.1259 - accuracy: 0.9550 - val_loss: 1.3751 - val_accuracy: 0.7447\n",
            "Epoch 74/100\n",
            "188/188 [==============================] - 13s 69ms/step - loss: 0.0971 - accuracy: 0.9648 - val_loss: 1.1770 - val_accuracy: 0.7687\n",
            "Epoch 75/100\n",
            "188/188 [==============================] - 13s 70ms/step - loss: 0.1200 - accuracy: 0.9563 - val_loss: 1.3906 - val_accuracy: 0.7460\n",
            "Epoch 76/100\n",
            "188/188 [==============================] - 13s 67ms/step - loss: 0.1187 - accuracy: 0.9603 - val_loss: 1.4038 - val_accuracy: 0.7473\n",
            "Epoch 77/100\n",
            "188/188 [==============================] - 13s 67ms/step - loss: 0.1083 - accuracy: 0.9631 - val_loss: 1.1760 - val_accuracy: 0.7507\n",
            "Epoch 78/100\n",
            "188/188 [==============================] - 13s 67ms/step - loss: 0.1154 - accuracy: 0.9586 - val_loss: 1.4522 - val_accuracy: 0.7347\n",
            "Epoch 79/100\n",
            "188/188 [==============================] - 13s 67ms/step - loss: 0.1225 - accuracy: 0.9553 - val_loss: 1.6272 - val_accuracy: 0.7180\n",
            "Epoch 80/100\n",
            "188/188 [==============================] - 13s 68ms/step - loss: 0.1150 - accuracy: 0.9575 - val_loss: 1.2515 - val_accuracy: 0.7640\n",
            "Epoch 81/100\n",
            "188/188 [==============================] - 13s 69ms/step - loss: 0.1207 - accuracy: 0.9556 - val_loss: 1.1988 - val_accuracy: 0.7640\n",
            "Epoch 82/100\n",
            "188/188 [==============================] - 13s 69ms/step - loss: 0.0987 - accuracy: 0.9646 - val_loss: 1.2991 - val_accuracy: 0.7527\n",
            "Epoch 83/100\n",
            "188/188 [==============================] - 13s 70ms/step - loss: 0.1155 - accuracy: 0.9585 - val_loss: 1.2553 - val_accuracy: 0.7633\n",
            "Epoch 84/100\n",
            "188/188 [==============================] - 13s 70ms/step - loss: 0.1183 - accuracy: 0.9571 - val_loss: 1.3507 - val_accuracy: 0.7600\n",
            "Epoch 85/100\n",
            "188/188 [==============================] - 13s 70ms/step - loss: 0.1128 - accuracy: 0.9603 - val_loss: 1.3284 - val_accuracy: 0.7647\n",
            "Epoch 86/100\n",
            "188/188 [==============================] - 13s 68ms/step - loss: 0.1175 - accuracy: 0.9575 - val_loss: 1.5368 - val_accuracy: 0.7327\n",
            "Epoch 87/100\n",
            "188/188 [==============================] - 13s 69ms/step - loss: 0.1091 - accuracy: 0.9640 - val_loss: 1.3342 - val_accuracy: 0.7487\n",
            "Epoch 88/100\n",
            "188/188 [==============================] - 13s 69ms/step - loss: 0.1107 - accuracy: 0.9636 - val_loss: 1.3226 - val_accuracy: 0.7480\n",
            "Epoch 89/100\n",
            "188/188 [==============================] - 13s 70ms/step - loss: 0.1115 - accuracy: 0.9566 - val_loss: 1.3795 - val_accuracy: 0.7460\n",
            "Epoch 90/100\n",
            "188/188 [==============================] - 13s 70ms/step - loss: 0.1127 - accuracy: 0.9605 - val_loss: 1.4748 - val_accuracy: 0.7413\n",
            "Epoch 91/100\n",
            "188/188 [==============================] - 13s 70ms/step - loss: 0.1003 - accuracy: 0.9680 - val_loss: 1.3645 - val_accuracy: 0.7640\n",
            "Epoch 92/100\n",
            "188/188 [==============================] - 13s 70ms/step - loss: 0.1122 - accuracy: 0.9605 - val_loss: 1.3392 - val_accuracy: 0.7553\n",
            "Epoch 93/100\n",
            "188/188 [==============================] - 13s 69ms/step - loss: 0.1217 - accuracy: 0.9573 - val_loss: 1.3346 - val_accuracy: 0.7573\n",
            "Epoch 94/100\n",
            "188/188 [==============================] - 13s 69ms/step - loss: 0.1013 - accuracy: 0.9636 - val_loss: 1.3206 - val_accuracy: 0.7673\n",
            "Epoch 95/100\n",
            "188/188 [==============================] - 13s 69ms/step - loss: 0.0902 - accuracy: 0.9663 - val_loss: 1.2885 - val_accuracy: 0.7727\n",
            "Epoch 96/100\n",
            "188/188 [==============================] - 13s 69ms/step - loss: 0.1083 - accuracy: 0.9646 - val_loss: 1.3461 - val_accuracy: 0.7533\n",
            "Epoch 97/100\n",
            "188/188 [==============================] - 13s 67ms/step - loss: 0.1047 - accuracy: 0.9633 - val_loss: 1.5595 - val_accuracy: 0.7367\n",
            "Epoch 98/100\n",
            "188/188 [==============================] - 13s 68ms/step - loss: 0.1085 - accuracy: 0.9641 - val_loss: 1.3698 - val_accuracy: 0.7587\n",
            "Epoch 99/100\n",
            "188/188 [==============================] - 13s 67ms/step - loss: 0.0956 - accuracy: 0.9673 - val_loss: 1.3705 - val_accuracy: 0.7533\n",
            "Epoch 100/100\n",
            "188/188 [==============================] - 13s 67ms/step - loss: 0.0890 - accuracy: 0.9655 - val_loss: 1.1915 - val_accuracy: 0.7673\n"
          ],
          "name": "stdout"
        }
      ]
    },
    {
      "cell_type": "code",
      "metadata": {
        "colab": {
          "base_uri": "https://localhost:8080/"
        },
        "id": "Hsbd9OG-b_u3",
        "outputId": "afb2ed77-5b34-46e5-dde5-08bb3a5266f6"
      },
      "source": [
        "model.evaluate(test_inputs,test_targets)"
      ],
      "execution_count": 51,
      "outputs": [
        {
          "output_type": "stream",
          "text": [
            "79/79 [==============================] - 1s 14ms/step - loss: 1.2528 - accuracy: 0.7603\n"
          ],
          "name": "stdout"
        },
        {
          "output_type": "execute_result",
          "data": {
            "text/plain": [
              "[1.252763271331787, 0.7603040933609009]"
            ]
          },
          "metadata": {
            "tags": []
          },
          "execution_count": 51
        }
      ]
    },
    {
      "cell_type": "code",
      "metadata": {
        "id": "gxOIUS5Ce_zl"
      },
      "source": [
        ""
      ],
      "execution_count": 51,
      "outputs": []
    }
  ]
}