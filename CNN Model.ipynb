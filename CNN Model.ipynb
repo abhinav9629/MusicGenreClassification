{
  "nbformat": 4,
  "nbformat_minor": 0,
  "metadata": {
    "colab": {
      "name": "CNN.ipynb",
      "provenance": [],
      "authorship_tag": "ABX9TyP1KD5fctujaF9tBwHIEuc4",
      "include_colab_link": true
    },
    "kernelspec": {
      "name": "python3",
      "display_name": "Python 3"
    },
    "language_info": {
      "name": "python"
    }
  },
  "cells": [
    {
      "cell_type": "markdown",
      "metadata": {
        "id": "view-in-github",
        "colab_type": "text"
      },
      "source": [
        "<a href=\"https://colab.research.google.com/github/abhinav9629/MusicGenreClassification/blob/main/CNN%20Model.ipynb\" target=\"_parent\"><img src=\"https://colab.research.google.com/assets/colab-badge.svg\" alt=\"Open In Colab\"/></a>"
      ]
    },
    {
      "cell_type": "code",
      "metadata": {
        "colab": {
          "base_uri": "https://localhost:8080/"
        },
        "id": "NZx1JcyDAv3r",
        "outputId": "591cbe32-49c8-4b00-ea44-f3454b0feaec"
      },
      "source": [
        "from google.colab import drive\n",
        "drive.mount('/content/drive')"
      ],
      "execution_count": 1,
      "outputs": [
        {
          "output_type": "stream",
          "text": [
            "Mounted at /content/drive\n"
          ],
          "name": "stdout"
        }
      ]
    },
    {
      "cell_type": "code",
      "metadata": {
        "id": "WIHzT8OttQb6"
      },
      "source": [
        "import json\n",
        "import numpy as np\n",
        "import matplotlib.pyplot as plt\n",
        "import tensorflow.keras as keras\n",
        "from sklearn.model_selection import train_test_split"
      ],
      "execution_count": 8,
      "outputs": []
    },
    {
      "cell_type": "code",
      "metadata": {
        "id": "w3sgCWNnBOMw"
      },
      "source": [
        "DATASET_PATH = '/content/drive/MyDrive/data.json'"
      ],
      "execution_count": 9,
      "outputs": []
    },
    {
      "cell_type": "code",
      "metadata": {
        "id": "QczM1wz-BUT0"
      },
      "source": [
        "def load_data(DATASET_PATH):\n",
        "  with open(DATASET_PATH,'r') as fp:\n",
        "    data = json.load(fp)\n",
        "    inputs = np.array(data['mfcc'])\n",
        "    targets = np.array(data['labels'])\n",
        "    return inputs,targets"
      ],
      "execution_count": 10,
      "outputs": []
    },
    {
      "cell_type": "code",
      "metadata": {
        "id": "gMZxjhlRBxB4"
      },
      "source": [
        "def dataset(test_size,val_size):\n",
        "  inputs,targets = load_data(DATASET_PATH=DATASET_PATH)\n",
        "  train_inputs,test_inputs,train_targets,test_targets = train_test_split(inputs,targets,test_size=test_size)\n",
        "  train_inputs,val_inputs,train_targets,val_targets = train_test_split(train_inputs,train_targets,test_size=val_size)\n",
        "  \n",
        "  train_inputs = train_inputs[...,np.newaxis]\n",
        "  val_inputs = val_inputs[...,np.newaxis]\n",
        "  test_inputs = test_inputs[...,np.newaxis]\n",
        "  return train_inputs,val_inputs,test_inputs,train_targets,val_targets,test_targets"
      ],
      "execution_count": 18,
      "outputs": []
    },
    {
      "cell_type": "code",
      "metadata": {
        "id": "XpxVMvJVCIZe"
      },
      "source": [
        "train_inputs,val_inputs,test_inputs,train_targets,val_targets,test_targets = dataset(0.25,0.2)"
      ],
      "execution_count": 19,
      "outputs": []
    },
    {
      "cell_type": "code",
      "metadata": {
        "id": "mXgSyhLuDDra"
      },
      "source": [
        "#MODEL ARCHITECTURE"
      ],
      "execution_count": 20,
      "outputs": []
    },
    {
      "cell_type": "code",
      "metadata": {
        "id": "GTSj-umSDkOW"
      },
      "source": [
        "model = keras.Sequential([\n",
        "  keras.layers.Conv2D(32,(3,3),activation='relu',input_shape = (train_inputs.shape[1],train_inputs.shape[2],train_inputs.shape[3])),\n",
        "  keras.layers.MaxPool2D((3,3),strides=(2,2),padding='same'),\n",
        "  keras.layers.BatchNormalization(),\n",
        "\n",
        "  keras.layers.Conv2D(32,(3,3),activation='relu',input_shape = (train_inputs.shape[1],train_inputs.shape[2],train_inputs.shape[3])),\n",
        "  keras.layers.MaxPool2D((3,3),strides=(2,2),padding='same'),\n",
        "  keras.layers.BatchNormalization(),\n",
        "\n",
        "  keras.layers.Conv2D(32,(2,2),activation='relu',input_shape = (train_inputs.shape[1],train_inputs.shape[2],train_inputs.shape[3])),\n",
        "  keras.layers.MaxPool2D((3,3),strides=(2,2),padding='same'),\n",
        "  keras.layers.BatchNormalization(),\n",
        "\n",
        "  keras.layers.Flatten(),\n",
        "  keras.layers.Dense(64,activation='relu'),\n",
        "  keras.layers.Dropout(0.3),\n",
        "\n",
        "  keras.layers.Dense(10,activation='softmax')\n",
        "])"
      ],
      "execution_count": 22,
      "outputs": []
    },
    {
      "cell_type": "code",
      "metadata": {
        "id": "5AutJTX2UzBK"
      },
      "source": [
        "optimiser = keras.optimizers.Adam(learning_rate=0.001)\n"
      ],
      "execution_count": 23,
      "outputs": []
    },
    {
      "cell_type": "code",
      "metadata": {
        "id": "c7dSuoYlU696"
      },
      "source": [
        "model.compile(optimizer=optimiser,loss='sparse_categorical_crossentropy',metrics=['accuracy'])"
      ],
      "execution_count": 24,
      "outputs": []
    },
    {
      "cell_type": "code",
      "metadata": {
        "colab": {
          "base_uri": "https://localhost:8080/"
        },
        "id": "YlFWY3ScZVei",
        "outputId": "b83f89c5-2080-48e0-92be-697cb6b1217d"
      },
      "source": [
        "history = model.fit(train_inputs,train_targets,validation_data=(val_inputs,val_targets),epochs = 50)"
      ],
      "execution_count": 26,
      "outputs": [
        {
          "output_type": "stream",
          "text": [
            "Epoch 1/50\n",
            "188/188 [==============================] - 14s 69ms/step - loss: 1.7359 - accuracy: 0.4110 - val_loss: 1.4955 - val_accuracy: 0.4787\n",
            "Epoch 2/50\n",
            "188/188 [==============================] - 13s 70ms/step - loss: 1.2933 - accuracy: 0.5388 - val_loss: 1.1560 - val_accuracy: 0.5833\n",
            "Epoch 3/50\n",
            "188/188 [==============================] - 14s 72ms/step - loss: 1.0978 - accuracy: 0.6125 - val_loss: 1.0480 - val_accuracy: 0.6233\n",
            "Epoch 4/50\n",
            "188/188 [==============================] - 14s 73ms/step - loss: 0.9773 - accuracy: 0.6535 - val_loss: 1.0714 - val_accuracy: 0.6333\n",
            "Epoch 5/50\n",
            "188/188 [==============================] - 13s 71ms/step - loss: 0.9001 - accuracy: 0.6818 - val_loss: 1.2193 - val_accuracy: 0.5847\n",
            "Epoch 6/50\n",
            "188/188 [==============================] - 13s 71ms/step - loss: 0.8163 - accuracy: 0.7125 - val_loss: 0.8418 - val_accuracy: 0.7100\n",
            "Epoch 7/50\n",
            "188/188 [==============================] - 13s 69ms/step - loss: 0.7589 - accuracy: 0.7284 - val_loss: 0.8944 - val_accuracy: 0.6907\n",
            "Epoch 8/50\n",
            "188/188 [==============================] - 13s 69ms/step - loss: 0.6903 - accuracy: 0.7574 - val_loss: 0.9637 - val_accuracy: 0.6873\n",
            "Epoch 9/50\n",
            "188/188 [==============================] - 13s 70ms/step - loss: 0.6679 - accuracy: 0.7654 - val_loss: 0.7532 - val_accuracy: 0.7467\n",
            "Epoch 10/50\n",
            "188/188 [==============================] - 13s 71ms/step - loss: 0.6157 - accuracy: 0.7821 - val_loss: 0.8465 - val_accuracy: 0.7273\n",
            "Epoch 11/50\n",
            "188/188 [==============================] - 13s 69ms/step - loss: 0.5842 - accuracy: 0.7956 - val_loss: 0.8045 - val_accuracy: 0.7600\n",
            "Epoch 12/50\n",
            "188/188 [==============================] - 13s 70ms/step - loss: 0.5220 - accuracy: 0.8212 - val_loss: 0.9458 - val_accuracy: 0.7067\n",
            "Epoch 13/50\n",
            "188/188 [==============================] - 13s 71ms/step - loss: 0.4848 - accuracy: 0.8279 - val_loss: 0.8474 - val_accuracy: 0.7273\n",
            "Epoch 14/50\n",
            "188/188 [==============================] - 13s 72ms/step - loss: 0.4799 - accuracy: 0.8311 - val_loss: 0.8013 - val_accuracy: 0.7507\n",
            "Epoch 15/50\n",
            "188/188 [==============================] - 14s 72ms/step - loss: 0.4635 - accuracy: 0.8332 - val_loss: 0.8407 - val_accuracy: 0.7233\n",
            "Epoch 16/50\n",
            "188/188 [==============================] - 13s 70ms/step - loss: 0.4441 - accuracy: 0.8463 - val_loss: 0.7717 - val_accuracy: 0.7493\n",
            "Epoch 17/50\n",
            "188/188 [==============================] - 13s 71ms/step - loss: 0.4068 - accuracy: 0.8531 - val_loss: 1.0254 - val_accuracy: 0.7040\n",
            "Epoch 18/50\n",
            "188/188 [==============================] - 13s 69ms/step - loss: 0.4016 - accuracy: 0.8604 - val_loss: 0.7954 - val_accuracy: 0.7427\n",
            "Epoch 19/50\n",
            "188/188 [==============================] - 13s 70ms/step - loss: 0.3747 - accuracy: 0.8674 - val_loss: 0.7811 - val_accuracy: 0.7647\n",
            "Epoch 20/50\n",
            "188/188 [==============================] - 13s 68ms/step - loss: 0.3583 - accuracy: 0.8716 - val_loss: 0.9856 - val_accuracy: 0.7147\n",
            "Epoch 21/50\n",
            "188/188 [==============================] - 13s 69ms/step - loss: 0.3336 - accuracy: 0.8838 - val_loss: 0.8874 - val_accuracy: 0.7533\n",
            "Epoch 22/50\n",
            "188/188 [==============================] - 13s 68ms/step - loss: 0.3252 - accuracy: 0.8833 - val_loss: 0.8611 - val_accuracy: 0.7593\n",
            "Epoch 23/50\n",
            "188/188 [==============================] - 13s 69ms/step - loss: 0.2854 - accuracy: 0.8961 - val_loss: 0.8218 - val_accuracy: 0.7613\n",
            "Epoch 24/50\n",
            "188/188 [==============================] - 13s 69ms/step - loss: 0.3089 - accuracy: 0.8934 - val_loss: 0.8424 - val_accuracy: 0.7600\n",
            "Epoch 25/50\n",
            "188/188 [==============================] - 13s 69ms/step - loss: 0.2925 - accuracy: 0.8944 - val_loss: 0.9016 - val_accuracy: 0.7500\n",
            "Epoch 26/50\n",
            "188/188 [==============================] - 13s 69ms/step - loss: 0.2964 - accuracy: 0.8954 - val_loss: 0.8703 - val_accuracy: 0.7653\n",
            "Epoch 27/50\n",
            "188/188 [==============================] - 13s 71ms/step - loss: 0.2561 - accuracy: 0.9076 - val_loss: 0.9057 - val_accuracy: 0.7593\n",
            "Epoch 28/50\n",
            "188/188 [==============================] - 13s 71ms/step - loss: 0.2658 - accuracy: 0.9013 - val_loss: 0.9147 - val_accuracy: 0.7560\n",
            "Epoch 29/50\n",
            "188/188 [==============================] - 13s 71ms/step - loss: 0.2577 - accuracy: 0.9100 - val_loss: 0.8561 - val_accuracy: 0.7593\n",
            "Epoch 30/50\n",
            "188/188 [==============================] - 13s 71ms/step - loss: 0.2684 - accuracy: 0.9058 - val_loss: 1.0625 - val_accuracy: 0.7300\n",
            "Epoch 31/50\n",
            "188/188 [==============================] - 13s 72ms/step - loss: 0.2230 - accuracy: 0.9185 - val_loss: 0.9075 - val_accuracy: 0.7720\n",
            "Epoch 32/50\n",
            "188/188 [==============================] - 13s 70ms/step - loss: 0.2350 - accuracy: 0.9196 - val_loss: 1.2087 - val_accuracy: 0.7133\n",
            "Epoch 33/50\n",
            "188/188 [==============================] - 13s 68ms/step - loss: 0.2235 - accuracy: 0.9208 - val_loss: 0.9743 - val_accuracy: 0.7560\n",
            "Epoch 34/50\n",
            "188/188 [==============================] - 13s 69ms/step - loss: 0.2259 - accuracy: 0.9205 - val_loss: 0.8905 - val_accuracy: 0.7807\n",
            "Epoch 35/50\n",
            "188/188 [==============================] - 13s 69ms/step - loss: 0.2023 - accuracy: 0.9300 - val_loss: 0.9004 - val_accuracy: 0.7767\n",
            "Epoch 36/50\n",
            "188/188 [==============================] - 13s 68ms/step - loss: 0.2191 - accuracy: 0.9211 - val_loss: 0.9691 - val_accuracy: 0.7653\n",
            "Epoch 37/50\n",
            "188/188 [==============================] - 13s 68ms/step - loss: 0.2212 - accuracy: 0.9241 - val_loss: 1.0652 - val_accuracy: 0.7407\n",
            "Epoch 38/50\n",
            "188/188 [==============================] - 13s 68ms/step - loss: 0.2076 - accuracy: 0.9290 - val_loss: 1.1998 - val_accuracy: 0.7173\n",
            "Epoch 39/50\n",
            "188/188 [==============================] - 13s 69ms/step - loss: 0.1811 - accuracy: 0.9346 - val_loss: 0.9491 - val_accuracy: 0.7747\n",
            "Epoch 40/50\n",
            "188/188 [==============================] - 13s 70ms/step - loss: 0.1925 - accuracy: 0.9315 - val_loss: 0.9474 - val_accuracy: 0.7700\n",
            "Epoch 41/50\n",
            "188/188 [==============================] - 13s 70ms/step - loss: 0.1966 - accuracy: 0.9298 - val_loss: 1.1988 - val_accuracy: 0.7460\n",
            "Epoch 42/50\n",
            "188/188 [==============================] - 13s 69ms/step - loss: 0.1811 - accuracy: 0.9346 - val_loss: 1.0217 - val_accuracy: 0.7733\n",
            "Epoch 43/50\n",
            "188/188 [==============================] - 13s 70ms/step - loss: 0.1664 - accuracy: 0.9418 - val_loss: 1.2409 - val_accuracy: 0.7413\n",
            "Epoch 44/50\n",
            "188/188 [==============================] - 13s 71ms/step - loss: 0.1947 - accuracy: 0.9311 - val_loss: 1.1305 - val_accuracy: 0.7493\n",
            "Epoch 45/50\n",
            "188/188 [==============================] - 13s 71ms/step - loss: 0.1779 - accuracy: 0.9338 - val_loss: 0.9867 - val_accuracy: 0.7600\n",
            "Epoch 46/50\n",
            "188/188 [==============================] - 13s 71ms/step - loss: 0.2013 - accuracy: 0.9280 - val_loss: 0.9017 - val_accuracy: 0.7807\n",
            "Epoch 47/50\n",
            "188/188 [==============================] - 13s 71ms/step - loss: 0.1746 - accuracy: 0.9396 - val_loss: 0.9852 - val_accuracy: 0.7780\n",
            "Epoch 48/50\n",
            "188/188 [==============================] - 13s 71ms/step - loss: 0.1648 - accuracy: 0.9411 - val_loss: 0.9924 - val_accuracy: 0.7747\n",
            "Epoch 49/50\n",
            "188/188 [==============================] - 13s 71ms/step - loss: 0.1490 - accuracy: 0.9438 - val_loss: 1.0357 - val_accuracy: 0.7820\n",
            "Epoch 50/50\n",
            "188/188 [==============================] - 13s 70ms/step - loss: 0.1721 - accuracy: 0.9390 - val_loss: 1.2253 - val_accuracy: 0.7480\n"
          ],
          "name": "stdout"
        }
      ]
    },
    {
      "cell_type": "code",
      "metadata": {
        "colab": {
          "base_uri": "https://localhost:8080/"
        },
        "id": "Hsbd9OG-b_u3",
        "outputId": "2f52783e-1e3a-4bff-eaf2-5e6b4a87d73a"
      },
      "source": [
        "model.evaluate(test_inputs,test_targets)"
      ],
      "execution_count": 27,
      "outputs": [
        {
          "output_type": "stream",
          "text": [
            "79/79 [==============================] - 1s 15ms/step - loss: 1.1512 - accuracy: 0.7455\n"
          ],
          "name": "stdout"
        },
        {
          "output_type": "execute_result",
          "data": {
            "text/plain": [
              "[1.1512420177459717, 0.7454981803894043]"
            ]
          },
          "metadata": {
            "tags": []
          },
          "execution_count": 27
        }
      ]
    },
    {
      "cell_type": "code",
      "metadata": {
        "id": "gxOIUS5Ce_zl"
      },
      "source": [
        ""
      ],
      "execution_count": null,
      "outputs": []
    }
  ]
}